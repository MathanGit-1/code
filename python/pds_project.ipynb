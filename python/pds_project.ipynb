{
 "cells": [
  {
   "cell_type": "code",
   "execution_count": 38,
   "metadata": {},
   "outputs": [
    {
     "name": "stdout",
     "output_type": "stream",
     "text": [
      "<class 'pandas.core.frame.DataFrame'>\n",
      "RangeIndex: 1581 entries, 0 to 1580\n",
      "Data columns (total 14 columns):\n",
      " #   Column            Non-Null Count  Dtype  \n",
      "---  ------            --------------  -----  \n",
      " 0   Age               1581 non-null   int64  \n",
      " 1   Gender            1528 non-null   object \n",
      " 2   Profession        1581 non-null   object \n",
      " 3   Marital_status    1581 non-null   object \n",
      " 4   Education         1581 non-null   object \n",
      " 5   No_of_Dependents  1581 non-null   int64  \n",
      " 6   Personal_loan     1581 non-null   object \n",
      " 7   House_loan        1581 non-null   object \n",
      " 8   Partner_working   1581 non-null   object \n",
      " 9   Salary            1581 non-null   int64  \n",
      " 10  Partner_salary    1475 non-null   float64\n",
      " 11  Total_salary      1581 non-null   int64  \n",
      " 12  Price             1581 non-null   int64  \n",
      " 13  Make              1581 non-null   object \n",
      "dtypes: float64(1), int64(5), object(8)\n",
      "memory usage: 173.1+ KB\n"
     ]
    }
   ],
   "source": [
    "#Import libraries\n",
    "import numpy as np\n",
    "import pandas as pd\n",
    "import matplotlib.pyplot as plt\n",
    "\n",
    "#Load the dataset from the given csv file\n",
    "df = pd.read_csv('austo_automobile.csv')\n",
    "\n",
    "#Structure of the dataset\n",
    "df.info()"
   ]
  }
 ],
 "metadata": {
  "kernelspec": {
   "display_name": "Python 3",
   "language": "python",
   "name": "python3"
  },
  "language_info": {
   "codemirror_mode": {
    "name": "ipython",
    "version": 3
   },
   "file_extension": ".py",
   "mimetype": "text/x-python",
   "name": "python",
   "nbconvert_exporter": "python",
   "pygments_lexer": "ipython3",
   "version": "3.12.6"
  }
 },
 "nbformat": 4,
 "nbformat_minor": 2
}
