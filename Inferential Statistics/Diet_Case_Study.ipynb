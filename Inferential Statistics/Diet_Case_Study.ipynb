{
 "cells": [
  {
   "cell_type": "markdown",
   "metadata": {
    "id": "E0FG5VngrybU"
   },
   "source": [
    "<center><p float=\"center\">\n",
    "  <img src=\"https://upload.wikimedia.org/wikipedia/commons/e/e9/4_RGB_McCombs_School_Brand_Branded.png\" width=\"300\" height=\"100\"/>\n",
    "  <img src=\"https://mma.prnewswire.com/media/1458111/Great_Learning_Logo.jpg?p=facebook\" width=\"200\" height=\"100\"/>\n",
    "</p></center>\n",
    "\n",
    "<center><font size=10>Inferential Statistics</center></font>\n",
    "<center><font size=5>Common Statistical Tests - Week 3</font></center>\n",
    "\n",
    "\n",
    "\n",
    "\n"
   ]
  },
  {
   "cell_type": "markdown",
   "metadata": {
    "id": "rwIqTziDr11_"
   },
   "source": [
    "<center><img src=\"https://cdn.pixabay.com/photo/2020/08/21/18/53/healthy-5506822__340.jpg\" width=\"720\"></center>\n",
    "\n",
    "<b><center><font size=5>Diet Case Study</font></center></b>\n"
   ]
  },
  {
   "cell_type": "markdown",
   "metadata": {
    "id": "mD04kKWLsulE"
   },
   "source": [
    "## **Problem Statement**"
   ]
  },
  {
   "cell_type": "markdown",
   "metadata": {
    "id": "IvgViS0Y77T0"
   },
   "source": [
    "### **Business Context**"
   ]
  },
  {
   "cell_type": "markdown",
   "metadata": {
    "id": "83qvSWOy77nl"
   },
   "source": [
    "From children to adults to the elderly, the importance of a balanced diet can't be emphasized enough for any age group for a healthy lifestyle. A proper, well-balanced meal plan helps to attain ideal body weight and reduce the risk of chronic diseases like diabetes, cardiovascular and other types of cancer.\n",
    "\n",
    "**The Health Company**, which provides various diet plans for weight loss, conducted a market test experiment to test three different kinds of diets (A, B, C). Each of the volunteers was given one of the three diet plans and asked to follow the diet for 6 weeks."
   ]
  },
  {
   "cell_type": "markdown",
   "metadata": {
    "id": "6WGGQGqa78CB"
   },
   "source": [
    "### **Objective**"
   ]
  },
  {
   "cell_type": "markdown",
   "metadata": {
    "id": "Bvdoju1r78eZ"
   },
   "source": [
    "In order to understand the effectiveness of each of the different diets for weight loss across various age groups, the executives of the company reached out to you, a data scientist at the company. The weights before starting the diet and the weight 6 weeks after following the diet were recorded for 78 volunteers across different age groups who were provided with either of the three diet plans. You have been asked to perform a statistical analysis to find evidence of whether the mean weight losses with respect to the three diet plans and different age groups are significantly different.\n",
    "\n",
    "**Note**: Consider a 5% significance level for the analysis."
   ]
  },
  {
   "cell_type": "markdown",
   "metadata": {
    "id": "1CP5C0-Z8Ii6"
   },
   "source": [
    "### **Data Dictionary**"
   ]
  },
  {
   "cell_type": "markdown",
   "metadata": {
    "id": "brcQpXtUrl9x"
   },
   "source": [
    "The *diet.csv* file contains the following information:\n",
    "\n",
    "1. diet: Type of the diet\n",
    "2. preweight: Weight (in kg) before following the diet plan\n",
    "3. weight6weeks: Weight (in kg) after 6 weeks of following the diet plan\n",
    "4. age_group: Age group of the participants when they started following the diet plan"
   ]
  },
  {
   "cell_type": "markdown",
   "metadata": {
    "id": "15c27a03"
   },
   "source": [
    "## **Installing and importing the necessary libraries**\n",
    "\n"
   ]
  },
  {
   "cell_type": "code",
   "execution_count": null,
   "metadata": {
    "id": "PXBkr210XS8F"
   },
   "outputs": [],
   "source": [
    "# # Installing the libraries with the specified version.\n",
    "# !pip install numpy==1.25.2 pandas==2.0.3 matplotlib==3.7.1 seaborn==0.13.1 scipy==1.11.4 statsmodels==0.14.2 -q --user"
   ]
  },
  {
   "cell_type": "markdown",
   "metadata": {
    "id": "Opd_TKlOzL11"
   },
   "source": [
    "**Note**: *After running the above cell, kindly restart the notebook kernel/runtime (depending on whether Jupyter Notebook/Google Colab is being used) and run all cells sequentially from the next cell.*"
   ]
  },
  {
   "cell_type": "code",
   "execution_count": null,
   "metadata": {
    "id": "e52eb36f"
   },
   "outputs": [],
   "source": [
    "# Libraries to help with reading and manipulating data\n",
    "import numpy as np\n",
    "import pandas as pd\n",
    "\n",
    "# Libraries to help with data visualization\n",
    "import matplotlib.pyplot as plt\n",
    "import seaborn as sns\n",
    "%matplotlib inline\n",
    "\n",
    "# Library to help with statistical analysis\n",
    "import scipy.stats as stats\n",
    "from statsmodels.formula.api import ols      # For n-way ANOVA\n",
    "from statsmodels.stats.anova import _get_covariance,anova_lm # For n-way ANOVA"
   ]
  },
  {
   "cell_type": "markdown",
   "metadata": {
    "id": "74aae585"
   },
   "source": [
    "## **Loading the dataset**"
   ]
  },
  {
   "cell_type": "code",
   "execution_count": null,
   "metadata": {
    "id": "8NFWeGdGxlur"
   },
   "outputs": [],
   "source": [
    "# uncomment the below code cell to mount your google drive\n",
    "#  from google.colab import drive\n",
    "#  drive.mount('/content/drive')"
   ]
  },
  {
   "cell_type": "code",
   "execution_count": null,
   "metadata": {
    "id": "eauwqu5zphup"
   },
   "outputs": [],
   "source": [
    "data = pd.read_csv('diet.csv')"
   ]
  },
  {
   "cell_type": "code",
   "execution_count": null,
   "metadata": {
    "id": "xjhw9O3bp1Jo"
   },
   "outputs": [],
   "source": [
    "# copying data to another variable to avoid any changes to original data\n",
    "df = data.copy()"
   ]
  },
  {
   "cell_type": "markdown",
   "metadata": {
    "id": "zQxhWYkHp6PQ"
   },
   "source": [
    "## **Data Overview**"
   ]
  },
  {
   "cell_type": "markdown",
   "metadata": {
    "id": "KaxlQSqzqAfP"
   },
   "source": [
    "The initial steps to get an overview of any dataset is to:\n",
    "- observe the first few rows of the dataset, to check whether the dataset has been loaded properly or not\n",
    "- get information about the number of rows and columns in the dataset\n",
    "- find out the data types of the columns to ensure that data is stored in the preferred format and the value of each property is as expected.\n",
    "- check the statistical summary of the dataset to get an overview of the numerical columns of the data"
   ]
  },
  {
   "cell_type": "markdown",
   "metadata": {
    "id": "c25e66c1"
   },
   "source": [
    "#### **Displaying the first few rows of the dataset**"
   ]
  },
  {
   "cell_type": "code",
   "execution_count": null,
   "metadata": {
    "colab": {
     "base_uri": "https://localhost:8080/"
    },
    "id": "c5fa6936",
    "outputId": "4ab20bb0-569f-4f08-a529-5e358a04a05c"
   },
   "outputs": [
    {
     "data": {
      "application/vnd.google.colaboratory.intrinsic+json": {
       "summary": "{\n  \"name\": \"df\",\n  \"rows\": 78,\n  \"fields\": [\n    {\n      \"column\": \"diet\",\n      \"properties\": {\n        \"dtype\": \"category\",\n        \"num_unique_values\": 3,\n        \"samples\": [\n          \"B\",\n          \"A\",\n          \"C\"\n        ],\n        \"semantic_type\": \"\",\n        \"description\": \"\"\n      }\n    },\n    {\n      \"column\": \"preweight\",\n      \"properties\": {\n        \"dtype\": \"number\",\n        \"std\": 8,\n        \"min\": 58,\n        \"max\": 103,\n        \"num_unique_values\": 30,\n        \"samples\": [\n          88,\n          68,\n          80\n        ],\n        \"semantic_type\": \"\",\n        \"description\": \"\"\n      }\n    },\n    {\n      \"column\": \"weight6weeks\",\n      \"properties\": {\n        \"dtype\": \"number\",\n        \"std\": 8.924503808714983,\n        \"min\": 53.0,\n        \"max\": 103.0,\n        \"num_unique_values\": 69,\n        \"samples\": [\n          60.3,\n          60.0,\n          79.1\n        ],\n        \"semantic_type\": \"\",\n        \"description\": \"\"\n      }\n    },\n    {\n      \"column\": \"age\",\n      \"properties\": {\n        \"dtype\": \"number\",\n        \"std\": 8,\n        \"min\": 18,\n        \"max\": 54,\n        \"num_unique_values\": 30,\n        \"samples\": [\n          44,\n          30,\n          54\n        ],\n        \"semantic_type\": \"\",\n        \"description\": \"\"\n      }\n    }\n  ]\n}",
       "type": "dataframe",
       "variable_name": "df"
      },
      "text/html": [
       "\n",
       "  <div id=\"df-591f19d6-8c8b-468b-b47e-099b100b8870\" class=\"colab-df-container\">\n",
       "    <div>\n",
       "<style scoped>\n",
       "    .dataframe tbody tr th:only-of-type {\n",
       "        vertical-align: middle;\n",
       "    }\n",
       "\n",
       "    .dataframe tbody tr th {\n",
       "        vertical-align: top;\n",
       "    }\n",
       "\n",
       "    .dataframe thead th {\n",
       "        text-align: right;\n",
       "    }\n",
       "</style>\n",
       "<table border=\"1\" class=\"dataframe\">\n",
       "  <thead>\n",
       "    <tr style=\"text-align: right;\">\n",
       "      <th></th>\n",
       "      <th>diet</th>\n",
       "      <th>preweight</th>\n",
       "      <th>weight6weeks</th>\n",
       "      <th>age</th>\n",
       "    </tr>\n",
       "  </thead>\n",
       "  <tbody>\n",
       "    <tr>\n",
       "      <th>0</th>\n",
       "      <td>B</td>\n",
       "      <td>60</td>\n",
       "      <td>60.0</td>\n",
       "      <td>45</td>\n",
       "    </tr>\n",
       "    <tr>\n",
       "      <th>1</th>\n",
       "      <td>B</td>\n",
       "      <td>103</td>\n",
       "      <td>103.0</td>\n",
       "      <td>38</td>\n",
       "    </tr>\n",
       "    <tr>\n",
       "      <th>2</th>\n",
       "      <td>A</td>\n",
       "      <td>58</td>\n",
       "      <td>54.2</td>\n",
       "      <td>31</td>\n",
       "    </tr>\n",
       "    <tr>\n",
       "      <th>3</th>\n",
       "      <td>A</td>\n",
       "      <td>60</td>\n",
       "      <td>54.0</td>\n",
       "      <td>18</td>\n",
       "    </tr>\n",
       "    <tr>\n",
       "      <th>4</th>\n",
       "      <td>A</td>\n",
       "      <td>64</td>\n",
       "      <td>63.3</td>\n",
       "      <td>35</td>\n",
       "    </tr>\n",
       "  </tbody>\n",
       "</table>\n",
       "</div>\n",
       "    <div class=\"colab-df-buttons\">\n",
       "\n",
       "  <div class=\"colab-df-container\">\n",
       "    <button class=\"colab-df-convert\" onclick=\"convertToInteractive('df-591f19d6-8c8b-468b-b47e-099b100b8870')\"\n",
       "            title=\"Convert this dataframe to an interactive table.\"\n",
       "            style=\"display:none;\">\n",
       "\n",
       "  <svg xmlns=\"http://www.w3.org/2000/svg\" height=\"24px\" viewBox=\"0 -960 960 960\">\n",
       "    <path d=\"M120-120v-720h720v720H120Zm60-500h600v-160H180v160Zm220 220h160v-160H400v160Zm0 220h160v-160H400v160ZM180-400h160v-160H180v160Zm440 0h160v-160H620v160ZM180-180h160v-160H180v160Zm440 0h160v-160H620v160Z\"/>\n",
       "  </svg>\n",
       "    </button>\n",
       "\n",
       "  <style>\n",
       "    .colab-df-container {\n",
       "      display:flex;\n",
       "      gap: 12px;\n",
       "    }\n",
       "\n",
       "    .colab-df-convert {\n",
       "      background-color: #E8F0FE;\n",
       "      border: none;\n",
       "      border-radius: 50%;\n",
       "      cursor: pointer;\n",
       "      display: none;\n",
       "      fill: #1967D2;\n",
       "      height: 32px;\n",
       "      padding: 0 0 0 0;\n",
       "      width: 32px;\n",
       "    }\n",
       "\n",
       "    .colab-df-convert:hover {\n",
       "      background-color: #E2EBFA;\n",
       "      box-shadow: 0px 1px 2px rgba(60, 64, 67, 0.3), 0px 1px 3px 1px rgba(60, 64, 67, 0.15);\n",
       "      fill: #174EA6;\n",
       "    }\n",
       "\n",
       "    .colab-df-buttons div {\n",
       "      margin-bottom: 4px;\n",
       "    }\n",
       "\n",
       "    [theme=dark] .colab-df-convert {\n",
       "      background-color: #3B4455;\n",
       "      fill: #D2E3FC;\n",
       "    }\n",
       "\n",
       "    [theme=dark] .colab-df-convert:hover {\n",
       "      background-color: #434B5C;\n",
       "      box-shadow: 0px 1px 3px 1px rgba(0, 0, 0, 0.15);\n",
       "      filter: drop-shadow(0px 1px 2px rgba(0, 0, 0, 0.3));\n",
       "      fill: #FFFFFF;\n",
       "    }\n",
       "  </style>\n",
       "\n",
       "    <script>\n",
       "      const buttonEl =\n",
       "        document.querySelector('#df-591f19d6-8c8b-468b-b47e-099b100b8870 button.colab-df-convert');\n",
       "      buttonEl.style.display =\n",
       "        google.colab.kernel.accessAllowed ? 'block' : 'none';\n",
       "\n",
       "      async function convertToInteractive(key) {\n",
       "        const element = document.querySelector('#df-591f19d6-8c8b-468b-b47e-099b100b8870');\n",
       "        const dataTable =\n",
       "          await google.colab.kernel.invokeFunction('convertToInteractive',\n",
       "                                                    [key], {});\n",
       "        if (!dataTable) return;\n",
       "\n",
       "        const docLinkHtml = 'Like what you see? Visit the ' +\n",
       "          '<a target=\"_blank\" href=https://colab.research.google.com/notebooks/data_table.ipynb>data table notebook</a>'\n",
       "          + ' to learn more about interactive tables.';\n",
       "        element.innerHTML = '';\n",
       "        dataTable['output_type'] = 'display_data';\n",
       "        await google.colab.output.renderOutput(dataTable, element);\n",
       "        const docLink = document.createElement('div');\n",
       "        docLink.innerHTML = docLinkHtml;\n",
       "        element.appendChild(docLink);\n",
       "      }\n",
       "    </script>\n",
       "  </div>\n",
       "\n",
       "\n",
       "<div id=\"df-133d9dad-4996-4658-bb96-03e1e14da56a\">\n",
       "  <button class=\"colab-df-quickchart\" onclick=\"quickchart('df-133d9dad-4996-4658-bb96-03e1e14da56a')\"\n",
       "            title=\"Suggest charts\"\n",
       "            style=\"display:none;\">\n",
       "\n",
       "<svg xmlns=\"http://www.w3.org/2000/svg\" height=\"24px\"viewBox=\"0 0 24 24\"\n",
       "     width=\"24px\">\n",
       "    <g>\n",
       "        <path d=\"M19 3H5c-1.1 0-2 .9-2 2v14c0 1.1.9 2 2 2h14c1.1 0 2-.9 2-2V5c0-1.1-.9-2-2-2zM9 17H7v-7h2v7zm4 0h-2V7h2v10zm4 0h-2v-4h2v4z\"/>\n",
       "    </g>\n",
       "</svg>\n",
       "  </button>\n",
       "\n",
       "<style>\n",
       "  .colab-df-quickchart {\n",
       "      --bg-color: #E8F0FE;\n",
       "      --fill-color: #1967D2;\n",
       "      --hover-bg-color: #E2EBFA;\n",
       "      --hover-fill-color: #174EA6;\n",
       "      --disabled-fill-color: #AAA;\n",
       "      --disabled-bg-color: #DDD;\n",
       "  }\n",
       "\n",
       "  [theme=dark] .colab-df-quickchart {\n",
       "      --bg-color: #3B4455;\n",
       "      --fill-color: #D2E3FC;\n",
       "      --hover-bg-color: #434B5C;\n",
       "      --hover-fill-color: #FFFFFF;\n",
       "      --disabled-bg-color: #3B4455;\n",
       "      --disabled-fill-color: #666;\n",
       "  }\n",
       "\n",
       "  .colab-df-quickchart {\n",
       "    background-color: var(--bg-color);\n",
       "    border: none;\n",
       "    border-radius: 50%;\n",
       "    cursor: pointer;\n",
       "    display: none;\n",
       "    fill: var(--fill-color);\n",
       "    height: 32px;\n",
       "    padding: 0;\n",
       "    width: 32px;\n",
       "  }\n",
       "\n",
       "  .colab-df-quickchart:hover {\n",
       "    background-color: var(--hover-bg-color);\n",
       "    box-shadow: 0 1px 2px rgba(60, 64, 67, 0.3), 0 1px 3px 1px rgba(60, 64, 67, 0.15);\n",
       "    fill: var(--button-hover-fill-color);\n",
       "  }\n",
       "\n",
       "  .colab-df-quickchart-complete:disabled,\n",
       "  .colab-df-quickchart-complete:disabled:hover {\n",
       "    background-color: var(--disabled-bg-color);\n",
       "    fill: var(--disabled-fill-color);\n",
       "    box-shadow: none;\n",
       "  }\n",
       "\n",
       "  .colab-df-spinner {\n",
       "    border: 2px solid var(--fill-color);\n",
       "    border-color: transparent;\n",
       "    border-bottom-color: var(--fill-color);\n",
       "    animation:\n",
       "      spin 1s steps(1) infinite;\n",
       "  }\n",
       "\n",
       "  @keyframes spin {\n",
       "    0% {\n",
       "      border-color: transparent;\n",
       "      border-bottom-color: var(--fill-color);\n",
       "      border-left-color: var(--fill-color);\n",
       "    }\n",
       "    20% {\n",
       "      border-color: transparent;\n",
       "      border-left-color: var(--fill-color);\n",
       "      border-top-color: var(--fill-color);\n",
       "    }\n",
       "    30% {\n",
       "      border-color: transparent;\n",
       "      border-left-color: var(--fill-color);\n",
       "      border-top-color: var(--fill-color);\n",
       "      border-right-color: var(--fill-color);\n",
       "    }\n",
       "    40% {\n",
       "      border-color: transparent;\n",
       "      border-right-color: var(--fill-color);\n",
       "      border-top-color: var(--fill-color);\n",
       "    }\n",
       "    60% {\n",
       "      border-color: transparent;\n",
       "      border-right-color: var(--fill-color);\n",
       "    }\n",
       "    80% {\n",
       "      border-color: transparent;\n",
       "      border-right-color: var(--fill-color);\n",
       "      border-bottom-color: var(--fill-color);\n",
       "    }\n",
       "    90% {\n",
       "      border-color: transparent;\n",
       "      border-bottom-color: var(--fill-color);\n",
       "    }\n",
       "  }\n",
       "</style>\n",
       "\n",
       "  <script>\n",
       "    async function quickchart(key) {\n",
       "      const quickchartButtonEl =\n",
       "        document.querySelector('#' + key + ' button');\n",
       "      quickchartButtonEl.disabled = true;  // To prevent multiple clicks.\n",
       "      quickchartButtonEl.classList.add('colab-df-spinner');\n",
       "      try {\n",
       "        const charts = await google.colab.kernel.invokeFunction(\n",
       "            'suggestCharts', [key], {});\n",
       "      } catch (error) {\n",
       "        console.error('Error during call to suggestCharts:', error);\n",
       "      }\n",
       "      quickchartButtonEl.classList.remove('colab-df-spinner');\n",
       "      quickchartButtonEl.classList.add('colab-df-quickchart-complete');\n",
       "    }\n",
       "    (() => {\n",
       "      let quickchartButtonEl =\n",
       "        document.querySelector('#df-133d9dad-4996-4658-bb96-03e1e14da56a button');\n",
       "      quickchartButtonEl.style.display =\n",
       "        google.colab.kernel.accessAllowed ? 'block' : 'none';\n",
       "    })();\n",
       "  </script>\n",
       "</div>\n",
       "    </div>\n",
       "  </div>\n"
      ],
      "text/plain": [
       "  diet  preweight  weight6weeks  age\n",
       "0    B         60          60.0   45\n",
       "1    B        103         103.0   38\n",
       "2    A         58          54.2   31\n",
       "3    A         60          54.0   18\n",
       "4    A         64          63.3   35"
      ]
     },
     "execution_count": 6,
     "metadata": {},
     "output_type": "execute_result"
    }
   ],
   "source": [
    "# looking at head (5 observations)\n",
    "df.head()"
   ]
  },
  {
   "cell_type": "markdown",
   "metadata": {
    "id": "af898527"
   },
   "source": [
    "* The dataset contains the diet type, pre-weight and weight after 6 weeks for one person in each row."
   ]
  },
  {
   "cell_type": "markdown",
   "metadata": {
    "id": "4f91affe"
   },
   "source": [
    "#### **Checking the shape of the dataset**"
   ]
  },
  {
   "cell_type": "code",
   "execution_count": null,
   "metadata": {
    "colab": {
     "base_uri": "https://localhost:8080/"
    },
    "id": "87534031",
    "outputId": "e1879e95-8982-42f9-92ee-444f0b4b91d4"
   },
   "outputs": [
    {
     "data": {
      "text/plain": [
       "(78, 4)"
      ]
     },
     "execution_count": 7,
     "metadata": {},
     "output_type": "execute_result"
    }
   ],
   "source": [
    "df.shape"
   ]
  },
  {
   "cell_type": "markdown",
   "metadata": {
    "id": "Yb3iDWBOrl94"
   },
   "source": [
    "* The dataset contains 78 rows and 4 columns"
   ]
  },
  {
   "cell_type": "markdown",
   "metadata": {
    "id": "9e803198"
   },
   "source": [
    "#### **Checking the data types of the columns for the dataset**"
   ]
  },
  {
   "cell_type": "code",
   "execution_count": null,
   "metadata": {
    "colab": {
     "base_uri": "https://localhost:8080/"
    },
    "id": "da718cad",
    "outputId": "2b53116c-63a3-4154-9cca-2046401bc632"
   },
   "outputs": [
    {
     "name": "stdout",
     "output_type": "stream",
     "text": [
      "<class 'pandas.core.frame.DataFrame'>\n",
      "RangeIndex: 78 entries, 0 to 77\n",
      "Data columns (total 4 columns):\n",
      " #   Column        Non-Null Count  Dtype  \n",
      "---  ------        --------------  -----  \n",
      " 0   diet          78 non-null     object \n",
      " 1   preweight     78 non-null     int64  \n",
      " 2   weight6weeks  78 non-null     float64\n",
      " 3   age           78 non-null     int64  \n",
      "dtypes: float64(1), int64(2), object(1)\n",
      "memory usage: 2.6+ KB\n"
     ]
    }
   ],
   "source": [
    "df.info()"
   ]
  },
  {
   "cell_type": "markdown",
   "metadata": {
    "id": "ub5eAck0rl95"
   },
   "source": [
    "* The `diet` column is categorical. While, `preweight`, `weight6weeks` and `age` are numerical.\n",
    "* There are no missing values in the dataset"
   ]
  },
  {
   "cell_type": "markdown",
   "metadata": {
    "id": "1eee9694"
   },
   "source": [
    "#### **Statistical summary of the dataset**"
   ]
  },
  {
   "cell_type": "code",
   "execution_count": null,
   "metadata": {
    "colab": {
     "base_uri": "https://localhost:8080/"
    },
    "id": "848897d9",
    "outputId": "656e2d1e-4c8b-4ac4-c57a-895baaa3e759"
   },
   "outputs": [
    {
     "data": {
      "application/vnd.google.colaboratory.intrinsic+json": {
       "summary": "{\n  \"name\": \"df\",\n  \"rows\": 8,\n  \"fields\": [\n    {\n      \"column\": \"preweight\",\n      \"properties\": {\n        \"dtype\": \"number\",\n        \"std\": 26.91705129686236,\n        \"min\": 8.723344347022913,\n        \"max\": 103.0,\n        \"num_unique_values\": 7,\n        \"samples\": [\n          78.0,\n          72.52564102564102,\n          72.0\n        ],\n        \"semantic_type\": \"\",\n        \"description\": \"\"\n      }\n    },\n    {\n      \"column\": \"weight6weeks\",\n      \"properties\": {\n        \"dtype\": \"number\",\n        \"std\": 26.77055580046159,\n        \"min\": 8.924503808714983,\n        \"max\": 103.0,\n        \"num_unique_values\": 8,\n        \"samples\": [\n          68.68076923076923,\n          68.95,\n          78.0\n        ],\n        \"semantic_type\": \"\",\n        \"description\": \"\"\n      }\n    },\n    {\n      \"column\": \"age\",\n      \"properties\": {\n        \"dtype\": \"number\",\n        \"std\": 21.509479071051473,\n        \"min\": 8.543204725765793,\n        \"max\": 78.0,\n        \"num_unique_values\": 8,\n        \"samples\": [\n          34.02564102564103,\n          34.0,\n          78.0\n        ],\n        \"semantic_type\": \"\",\n        \"description\": \"\"\n      }\n    }\n  ]\n}",
       "type": "dataframe"
      },
      "text/html": [
       "\n",
       "  <div id=\"df-9ff08744-bd95-4fa2-b59c-01e3ea783f32\" class=\"colab-df-container\">\n",
       "    <div>\n",
       "<style scoped>\n",
       "    .dataframe tbody tr th:only-of-type {\n",
       "        vertical-align: middle;\n",
       "    }\n",
       "\n",
       "    .dataframe tbody tr th {\n",
       "        vertical-align: top;\n",
       "    }\n",
       "\n",
       "    .dataframe thead th {\n",
       "        text-align: right;\n",
       "    }\n",
       "</style>\n",
       "<table border=\"1\" class=\"dataframe\">\n",
       "  <thead>\n",
       "    <tr style=\"text-align: right;\">\n",
       "      <th></th>\n",
       "      <th>preweight</th>\n",
       "      <th>weight6weeks</th>\n",
       "      <th>age</th>\n",
       "    </tr>\n",
       "  </thead>\n",
       "  <tbody>\n",
       "    <tr>\n",
       "      <th>count</th>\n",
       "      <td>78.000000</td>\n",
       "      <td>78.000000</td>\n",
       "      <td>78.000000</td>\n",
       "    </tr>\n",
       "    <tr>\n",
       "      <th>mean</th>\n",
       "      <td>72.525641</td>\n",
       "      <td>68.680769</td>\n",
       "      <td>34.025641</td>\n",
       "    </tr>\n",
       "    <tr>\n",
       "      <th>std</th>\n",
       "      <td>8.723344</td>\n",
       "      <td>8.924504</td>\n",
       "      <td>8.543205</td>\n",
       "    </tr>\n",
       "    <tr>\n",
       "      <th>min</th>\n",
       "      <td>58.000000</td>\n",
       "      <td>53.000000</td>\n",
       "      <td>18.000000</td>\n",
       "    </tr>\n",
       "    <tr>\n",
       "      <th>25%</th>\n",
       "      <td>66.000000</td>\n",
       "      <td>61.850000</td>\n",
       "      <td>28.250000</td>\n",
       "    </tr>\n",
       "    <tr>\n",
       "      <th>50%</th>\n",
       "      <td>72.000000</td>\n",
       "      <td>68.950000</td>\n",
       "      <td>34.000000</td>\n",
       "    </tr>\n",
       "    <tr>\n",
       "      <th>75%</th>\n",
       "      <td>78.000000</td>\n",
       "      <td>73.825000</td>\n",
       "      <td>39.000000</td>\n",
       "    </tr>\n",
       "    <tr>\n",
       "      <th>max</th>\n",
       "      <td>103.000000</td>\n",
       "      <td>103.000000</td>\n",
       "      <td>54.000000</td>\n",
       "    </tr>\n",
       "  </tbody>\n",
       "</table>\n",
       "</div>\n",
       "    <div class=\"colab-df-buttons\">\n",
       "\n",
       "  <div class=\"colab-df-container\">\n",
       "    <button class=\"colab-df-convert\" onclick=\"convertToInteractive('df-9ff08744-bd95-4fa2-b59c-01e3ea783f32')\"\n",
       "            title=\"Convert this dataframe to an interactive table.\"\n",
       "            style=\"display:none;\">\n",
       "\n",
       "  <svg xmlns=\"http://www.w3.org/2000/svg\" height=\"24px\" viewBox=\"0 -960 960 960\">\n",
       "    <path d=\"M120-120v-720h720v720H120Zm60-500h600v-160H180v160Zm220 220h160v-160H400v160Zm0 220h160v-160H400v160ZM180-400h160v-160H180v160Zm440 0h160v-160H620v160ZM180-180h160v-160H180v160Zm440 0h160v-160H620v160Z\"/>\n",
       "  </svg>\n",
       "    </button>\n",
       "\n",
       "  <style>\n",
       "    .colab-df-container {\n",
       "      display:flex;\n",
       "      gap: 12px;\n",
       "    }\n",
       "\n",
       "    .colab-df-convert {\n",
       "      background-color: #E8F0FE;\n",
       "      border: none;\n",
       "      border-radius: 50%;\n",
       "      cursor: pointer;\n",
       "      display: none;\n",
       "      fill: #1967D2;\n",
       "      height: 32px;\n",
       "      padding: 0 0 0 0;\n",
       "      width: 32px;\n",
       "    }\n",
       "\n",
       "    .colab-df-convert:hover {\n",
       "      background-color: #E2EBFA;\n",
       "      box-shadow: 0px 1px 2px rgba(60, 64, 67, 0.3), 0px 1px 3px 1px rgba(60, 64, 67, 0.15);\n",
       "      fill: #174EA6;\n",
       "    }\n",
       "\n",
       "    .colab-df-buttons div {\n",
       "      margin-bottom: 4px;\n",
       "    }\n",
       "\n",
       "    [theme=dark] .colab-df-convert {\n",
       "      background-color: #3B4455;\n",
       "      fill: #D2E3FC;\n",
       "    }\n",
       "\n",
       "    [theme=dark] .colab-df-convert:hover {\n",
       "      background-color: #434B5C;\n",
       "      box-shadow: 0px 1px 3px 1px rgba(0, 0, 0, 0.15);\n",
       "      filter: drop-shadow(0px 1px 2px rgba(0, 0, 0, 0.3));\n",
       "      fill: #FFFFFF;\n",
       "    }\n",
       "  </style>\n",
       "\n",
       "    <script>\n",
       "      const buttonEl =\n",
       "        document.querySelector('#df-9ff08744-bd95-4fa2-b59c-01e3ea783f32 button.colab-df-convert');\n",
       "      buttonEl.style.display =\n",
       "        google.colab.kernel.accessAllowed ? 'block' : 'none';\n",
       "\n",
       "      async function convertToInteractive(key) {\n",
       "        const element = document.querySelector('#df-9ff08744-bd95-4fa2-b59c-01e3ea783f32');\n",
       "        const dataTable =\n",
       "          await google.colab.kernel.invokeFunction('convertToInteractive',\n",
       "                                                    [key], {});\n",
       "        if (!dataTable) return;\n",
       "\n",
       "        const docLinkHtml = 'Like what you see? Visit the ' +\n",
       "          '<a target=\"_blank\" href=https://colab.research.google.com/notebooks/data_table.ipynb>data table notebook</a>'\n",
       "          + ' to learn more about interactive tables.';\n",
       "        element.innerHTML = '';\n",
       "        dataTable['output_type'] = 'display_data';\n",
       "        await google.colab.output.renderOutput(dataTable, element);\n",
       "        const docLink = document.createElement('div');\n",
       "        docLink.innerHTML = docLinkHtml;\n",
       "        element.appendChild(docLink);\n",
       "      }\n",
       "    </script>\n",
       "  </div>\n",
       "\n",
       "\n",
       "<div id=\"df-def0aec3-112d-43d9-b8f0-edb70d522d68\">\n",
       "  <button class=\"colab-df-quickchart\" onclick=\"quickchart('df-def0aec3-112d-43d9-b8f0-edb70d522d68')\"\n",
       "            title=\"Suggest charts\"\n",
       "            style=\"display:none;\">\n",
       "\n",
       "<svg xmlns=\"http://www.w3.org/2000/svg\" height=\"24px\"viewBox=\"0 0 24 24\"\n",
       "     width=\"24px\">\n",
       "    <g>\n",
       "        <path d=\"M19 3H5c-1.1 0-2 .9-2 2v14c0 1.1.9 2 2 2h14c1.1 0 2-.9 2-2V5c0-1.1-.9-2-2-2zM9 17H7v-7h2v7zm4 0h-2V7h2v10zm4 0h-2v-4h2v4z\"/>\n",
       "    </g>\n",
       "</svg>\n",
       "  </button>\n",
       "\n",
       "<style>\n",
       "  .colab-df-quickchart {\n",
       "      --bg-color: #E8F0FE;\n",
       "      --fill-color: #1967D2;\n",
       "      --hover-bg-color: #E2EBFA;\n",
       "      --hover-fill-color: #174EA6;\n",
       "      --disabled-fill-color: #AAA;\n",
       "      --disabled-bg-color: #DDD;\n",
       "  }\n",
       "\n",
       "  [theme=dark] .colab-df-quickchart {\n",
       "      --bg-color: #3B4455;\n",
       "      --fill-color: #D2E3FC;\n",
       "      --hover-bg-color: #434B5C;\n",
       "      --hover-fill-color: #FFFFFF;\n",
       "      --disabled-bg-color: #3B4455;\n",
       "      --disabled-fill-color: #666;\n",
       "  }\n",
       "\n",
       "  .colab-df-quickchart {\n",
       "    background-color: var(--bg-color);\n",
       "    border: none;\n",
       "    border-radius: 50%;\n",
       "    cursor: pointer;\n",
       "    display: none;\n",
       "    fill: var(--fill-color);\n",
       "    height: 32px;\n",
       "    padding: 0;\n",
       "    width: 32px;\n",
       "  }\n",
       "\n",
       "  .colab-df-quickchart:hover {\n",
       "    background-color: var(--hover-bg-color);\n",
       "    box-shadow: 0 1px 2px rgba(60, 64, 67, 0.3), 0 1px 3px 1px rgba(60, 64, 67, 0.15);\n",
       "    fill: var(--button-hover-fill-color);\n",
       "  }\n",
       "\n",
       "  .colab-df-quickchart-complete:disabled,\n",
       "  .colab-df-quickchart-complete:disabled:hover {\n",
       "    background-color: var(--disabled-bg-color);\n",
       "    fill: var(--disabled-fill-color);\n",
       "    box-shadow: none;\n",
       "  }\n",
       "\n",
       "  .colab-df-spinner {\n",
       "    border: 2px solid var(--fill-color);\n",
       "    border-color: transparent;\n",
       "    border-bottom-color: var(--fill-color);\n",
       "    animation:\n",
       "      spin 1s steps(1) infinite;\n",
       "  }\n",
       "\n",
       "  @keyframes spin {\n",
       "    0% {\n",
       "      border-color: transparent;\n",
       "      border-bottom-color: var(--fill-color);\n",
       "      border-left-color: var(--fill-color);\n",
       "    }\n",
       "    20% {\n",
       "      border-color: transparent;\n",
       "      border-left-color: var(--fill-color);\n",
       "      border-top-color: var(--fill-color);\n",
       "    }\n",
       "    30% {\n",
       "      border-color: transparent;\n",
       "      border-left-color: var(--fill-color);\n",
       "      border-top-color: var(--fill-color);\n",
       "      border-right-color: var(--fill-color);\n",
       "    }\n",
       "    40% {\n",
       "      border-color: transparent;\n",
       "      border-right-color: var(--fill-color);\n",
       "      border-top-color: var(--fill-color);\n",
       "    }\n",
       "    60% {\n",
       "      border-color: transparent;\n",
       "      border-right-color: var(--fill-color);\n",
       "    }\n",
       "    80% {\n",
       "      border-color: transparent;\n",
       "      border-right-color: var(--fill-color);\n",
       "      border-bottom-color: var(--fill-color);\n",
       "    }\n",
       "    90% {\n",
       "      border-color: transparent;\n",
       "      border-bottom-color: var(--fill-color);\n",
       "    }\n",
       "  }\n",
       "</style>\n",
       "\n",
       "  <script>\n",
       "    async function quickchart(key) {\n",
       "      const quickchartButtonEl =\n",
       "        document.querySelector('#' + key + ' button');\n",
       "      quickchartButtonEl.disabled = true;  // To prevent multiple clicks.\n",
       "      quickchartButtonEl.classList.add('colab-df-spinner');\n",
       "      try {\n",
       "        const charts = await google.colab.kernel.invokeFunction(\n",
       "            'suggestCharts', [key], {});\n",
       "      } catch (error) {\n",
       "        console.error('Error during call to suggestCharts:', error);\n",
       "      }\n",
       "      quickchartButtonEl.classList.remove('colab-df-spinner');\n",
       "      quickchartButtonEl.classList.add('colab-df-quickchart-complete');\n",
       "    }\n",
       "    (() => {\n",
       "      let quickchartButtonEl =\n",
       "        document.querySelector('#df-def0aec3-112d-43d9-b8f0-edb70d522d68 button');\n",
       "      quickchartButtonEl.style.display =\n",
       "        google.colab.kernel.accessAllowed ? 'block' : 'none';\n",
       "    })();\n",
       "  </script>\n",
       "</div>\n",
       "    </div>\n",
       "  </div>\n"
      ],
      "text/plain": [
       "        preweight  weight6weeks        age\n",
       "count   78.000000     78.000000  78.000000\n",
       "mean    72.525641     68.680769  34.025641\n",
       "std      8.723344      8.924504   8.543205\n",
       "min     58.000000     53.000000  18.000000\n",
       "25%     66.000000     61.850000  28.250000\n",
       "50%     72.000000     68.950000  34.000000\n",
       "75%     78.000000     73.825000  39.000000\n",
       "max    103.000000    103.000000  54.000000"
      ]
     },
     "execution_count": 9,
     "metadata": {},
     "output_type": "execute_result"
    }
   ],
   "source": [
    "df.describe()"
   ]
  },
  {
   "cell_type": "markdown",
   "metadata": {
    "id": "xb5i3fGmrl96"
   },
   "source": [
    "* The average weight before any diet plan is 72.53 kg, while the average weight after 6 weeks of a diet plan is 68.68 kg. Overall, taking a diet has reduced the average weight.\n",
    "* The variation in the weights is very similar before and after taking a diet."
   ]
  },
  {
   "cell_type": "markdown",
   "metadata": {
    "id": "Z98I6Qc_0OH_"
   },
   "source": [
    "## **Exploratory Data Analysis**"
   ]
  },
  {
   "cell_type": "markdown",
   "metadata": {
    "id": "r2oAHvFywcfF"
   },
   "source": [
    "#### **Value counts of different types of diet**"
   ]
  },
  {
   "cell_type": "code",
   "execution_count": null,
   "metadata": {
    "ExecuteTime": {
     "end_time": "2020-05-06T07:29:25.010688Z",
     "start_time": "2020-05-06T07:29:24.973174Z"
    },
    "colab": {
     "base_uri": "https://localhost:8080/"
    },
    "id": "QrYFUdbCrl96",
    "outputId": "d31fc222-2ee9-4e69-ef7c-e5f2ba74c38d"
   },
   "outputs": [
    {
     "data": {
      "text/plain": [
       "diet\n",
       "B    27\n",
       "C    27\n",
       "A    24\n",
       "Name: count, dtype: int64"
      ]
     },
     "execution_count": 10,
     "metadata": {},
     "output_type": "execute_result"
    }
   ],
   "source": [
    "df.diet.value_counts()"
   ]
  },
  {
   "cell_type": "markdown",
   "metadata": {
    "id": "LCOq7Ki7rl96"
   },
   "source": [
    "* As mentioned in the problem statement, there are three types of diet plans: A, B, and C\n",
    "* In the sample of 78 people, 27 each took diet plans B and C, while 24 took diet plan A"
   ]
  },
  {
   "cell_type": "markdown",
   "metadata": {
    "id": "ueDvxAmArl97"
   },
   "source": [
    "#### **Creating a new column 'weight_loss' and 'age_category'**"
   ]
  },
  {
   "cell_type": "markdown",
   "metadata": {
    "id": "Jh5tx5pSoGgv"
   },
   "source": [
    "To assess the loss in weight after following a diet plan and considering different age groups, we shall create a new column `weightloss` by subtracting the weight before starting the diet from the weight after completing the diet. Additionally, we will add a new column `age_category` based on the age groups defined as 18-25,25-40, and 40+ using the provided age categorization function."
   ]
  },
  {
   "cell_type": "code",
   "execution_count": null,
   "metadata": {
    "colab": {
     "base_uri": "https://localhost:8080/"
    },
    "id": "eHdy1m-Zrl97",
    "outputId": "ea654c91-c048-4455-b856-e42081b3276d"
   },
   "outputs": [
    {
     "data": {
      "application/vnd.google.colaboratory.intrinsic+json": {
       "summary": "{\n  \"name\": \"df\",\n  \"rows\": 78,\n  \"fields\": [\n    {\n      \"column\": \"diet\",\n      \"properties\": {\n        \"dtype\": \"category\",\n        \"num_unique_values\": 3,\n        \"samples\": [\n          \"B\",\n          \"A\",\n          \"C\"\n        ],\n        \"semantic_type\": \"\",\n        \"description\": \"\"\n      }\n    },\n    {\n      \"column\": \"preweight\",\n      \"properties\": {\n        \"dtype\": \"number\",\n        \"std\": 8,\n        \"min\": 58,\n        \"max\": 103,\n        \"num_unique_values\": 30,\n        \"samples\": [\n          88,\n          68,\n          80\n        ],\n        \"semantic_type\": \"\",\n        \"description\": \"\"\n      }\n    },\n    {\n      \"column\": \"weight6weeks\",\n      \"properties\": {\n        \"dtype\": \"number\",\n        \"std\": 8.924503808714983,\n        \"min\": 53.0,\n        \"max\": 103.0,\n        \"num_unique_values\": 69,\n        \"samples\": [\n          60.3,\n          60.0,\n          79.1\n        ],\n        \"semantic_type\": \"\",\n        \"description\": \"\"\n      }\n    },\n    {\n      \"column\": \"age\",\n      \"properties\": {\n        \"dtype\": \"number\",\n        \"std\": 8,\n        \"min\": 18,\n        \"max\": 54,\n        \"num_unique_values\": 30,\n        \"samples\": [\n          44,\n          30,\n          54\n        ],\n        \"semantic_type\": \"\",\n        \"description\": \"\"\n      }\n    },\n    {\n      \"column\": \"weight_loss\",\n      \"properties\": {\n        \"dtype\": \"number\",\n        \"std\": 2.5514776689280056,\n        \"min\": -9.200000000000003,\n        \"max\": 2.1000000000000014,\n        \"num_unique_values\": 54,\n        \"samples\": [\n          -2.700000000000003,\n          1.4000000000000057,\n          -7.900000000000006\n        ],\n        \"semantic_type\": \"\",\n        \"description\": \"\"\n      }\n    },\n    {\n      \"column\": \"age_category\",\n      \"properties\": {\n        \"dtype\": \"category\",\n        \"num_unique_values\": 3,\n        \"samples\": [\n          \"40+\",\n          \"25-40\",\n          \"18-25\"\n        ],\n        \"semantic_type\": \"\",\n        \"description\": \"\"\n      }\n    }\n  ]\n}",
       "type": "dataframe",
       "variable_name": "df"
      },
      "text/html": [
       "\n",
       "  <div id=\"df-fdbf5034-b816-4fc1-a3fe-64478ed0f4ba\" class=\"colab-df-container\">\n",
       "    <div>\n",
       "<style scoped>\n",
       "    .dataframe tbody tr th:only-of-type {\n",
       "        vertical-align: middle;\n",
       "    }\n",
       "\n",
       "    .dataframe tbody tr th {\n",
       "        vertical-align: top;\n",
       "    }\n",
       "\n",
       "    .dataframe thead th {\n",
       "        text-align: right;\n",
       "    }\n",
       "</style>\n",
       "<table border=\"1\" class=\"dataframe\">\n",
       "  <thead>\n",
       "    <tr style=\"text-align: right;\">\n",
       "      <th></th>\n",
       "      <th>diet</th>\n",
       "      <th>preweight</th>\n",
       "      <th>weight6weeks</th>\n",
       "      <th>age</th>\n",
       "      <th>weight_loss</th>\n",
       "      <th>age_category</th>\n",
       "    </tr>\n",
       "  </thead>\n",
       "  <tbody>\n",
       "    <tr>\n",
       "      <th>0</th>\n",
       "      <td>B</td>\n",
       "      <td>60</td>\n",
       "      <td>60.0</td>\n",
       "      <td>45</td>\n",
       "      <td>0.0</td>\n",
       "      <td>40+</td>\n",
       "    </tr>\n",
       "    <tr>\n",
       "      <th>1</th>\n",
       "      <td>B</td>\n",
       "      <td>103</td>\n",
       "      <td>103.0</td>\n",
       "      <td>38</td>\n",
       "      <td>0.0</td>\n",
       "      <td>25-40</td>\n",
       "    </tr>\n",
       "    <tr>\n",
       "      <th>2</th>\n",
       "      <td>A</td>\n",
       "      <td>58</td>\n",
       "      <td>54.2</td>\n",
       "      <td>31</td>\n",
       "      <td>-3.8</td>\n",
       "      <td>25-40</td>\n",
       "    </tr>\n",
       "    <tr>\n",
       "      <th>3</th>\n",
       "      <td>A</td>\n",
       "      <td>60</td>\n",
       "      <td>54.0</td>\n",
       "      <td>18</td>\n",
       "      <td>-6.0</td>\n",
       "      <td>18-25</td>\n",
       "    </tr>\n",
       "    <tr>\n",
       "      <th>4</th>\n",
       "      <td>A</td>\n",
       "      <td>64</td>\n",
       "      <td>63.3</td>\n",
       "      <td>35</td>\n",
       "      <td>-0.7</td>\n",
       "      <td>25-40</td>\n",
       "    </tr>\n",
       "  </tbody>\n",
       "</table>\n",
       "</div>\n",
       "    <div class=\"colab-df-buttons\">\n",
       "\n",
       "  <div class=\"colab-df-container\">\n",
       "    <button class=\"colab-df-convert\" onclick=\"convertToInteractive('df-fdbf5034-b816-4fc1-a3fe-64478ed0f4ba')\"\n",
       "            title=\"Convert this dataframe to an interactive table.\"\n",
       "            style=\"display:none;\">\n",
       "\n",
       "  <svg xmlns=\"http://www.w3.org/2000/svg\" height=\"24px\" viewBox=\"0 -960 960 960\">\n",
       "    <path d=\"M120-120v-720h720v720H120Zm60-500h600v-160H180v160Zm220 220h160v-160H400v160Zm0 220h160v-160H400v160ZM180-400h160v-160H180v160Zm440 0h160v-160H620v160ZM180-180h160v-160H180v160Zm440 0h160v-160H620v160Z\"/>\n",
       "  </svg>\n",
       "    </button>\n",
       "\n",
       "  <style>\n",
       "    .colab-df-container {\n",
       "      display:flex;\n",
       "      gap: 12px;\n",
       "    }\n",
       "\n",
       "    .colab-df-convert {\n",
       "      background-color: #E8F0FE;\n",
       "      border: none;\n",
       "      border-radius: 50%;\n",
       "      cursor: pointer;\n",
       "      display: none;\n",
       "      fill: #1967D2;\n",
       "      height: 32px;\n",
       "      padding: 0 0 0 0;\n",
       "      width: 32px;\n",
       "    }\n",
       "\n",
       "    .colab-df-convert:hover {\n",
       "      background-color: #E2EBFA;\n",
       "      box-shadow: 0px 1px 2px rgba(60, 64, 67, 0.3), 0px 1px 3px 1px rgba(60, 64, 67, 0.15);\n",
       "      fill: #174EA6;\n",
       "    }\n",
       "\n",
       "    .colab-df-buttons div {\n",
       "      margin-bottom: 4px;\n",
       "    }\n",
       "\n",
       "    [theme=dark] .colab-df-convert {\n",
       "      background-color: #3B4455;\n",
       "      fill: #D2E3FC;\n",
       "    }\n",
       "\n",
       "    [theme=dark] .colab-df-convert:hover {\n",
       "      background-color: #434B5C;\n",
       "      box-shadow: 0px 1px 3px 1px rgba(0, 0, 0, 0.15);\n",
       "      filter: drop-shadow(0px 1px 2px rgba(0, 0, 0, 0.3));\n",
       "      fill: #FFFFFF;\n",
       "    }\n",
       "  </style>\n",
       "\n",
       "    <script>\n",
       "      const buttonEl =\n",
       "        document.querySelector('#df-fdbf5034-b816-4fc1-a3fe-64478ed0f4ba button.colab-df-convert');\n",
       "      buttonEl.style.display =\n",
       "        google.colab.kernel.accessAllowed ? 'block' : 'none';\n",
       "\n",
       "      async function convertToInteractive(key) {\n",
       "        const element = document.querySelector('#df-fdbf5034-b816-4fc1-a3fe-64478ed0f4ba');\n",
       "        const dataTable =\n",
       "          await google.colab.kernel.invokeFunction('convertToInteractive',\n",
       "                                                    [key], {});\n",
       "        if (!dataTable) return;\n",
       "\n",
       "        const docLinkHtml = 'Like what you see? Visit the ' +\n",
       "          '<a target=\"_blank\" href=https://colab.research.google.com/notebooks/data_table.ipynb>data table notebook</a>'\n",
       "          + ' to learn more about interactive tables.';\n",
       "        element.innerHTML = '';\n",
       "        dataTable['output_type'] = 'display_data';\n",
       "        await google.colab.output.renderOutput(dataTable, element);\n",
       "        const docLink = document.createElement('div');\n",
       "        docLink.innerHTML = docLinkHtml;\n",
       "        element.appendChild(docLink);\n",
       "      }\n",
       "    </script>\n",
       "  </div>\n",
       "\n",
       "\n",
       "<div id=\"df-c8922dc0-3607-4bf4-8111-969d41ca66d6\">\n",
       "  <button class=\"colab-df-quickchart\" onclick=\"quickchart('df-c8922dc0-3607-4bf4-8111-969d41ca66d6')\"\n",
       "            title=\"Suggest charts\"\n",
       "            style=\"display:none;\">\n",
       "\n",
       "<svg xmlns=\"http://www.w3.org/2000/svg\" height=\"24px\"viewBox=\"0 0 24 24\"\n",
       "     width=\"24px\">\n",
       "    <g>\n",
       "        <path d=\"M19 3H5c-1.1 0-2 .9-2 2v14c0 1.1.9 2 2 2h14c1.1 0 2-.9 2-2V5c0-1.1-.9-2-2-2zM9 17H7v-7h2v7zm4 0h-2V7h2v10zm4 0h-2v-4h2v4z\"/>\n",
       "    </g>\n",
       "</svg>\n",
       "  </button>\n",
       "\n",
       "<style>\n",
       "  .colab-df-quickchart {\n",
       "      --bg-color: #E8F0FE;\n",
       "      --fill-color: #1967D2;\n",
       "      --hover-bg-color: #E2EBFA;\n",
       "      --hover-fill-color: #174EA6;\n",
       "      --disabled-fill-color: #AAA;\n",
       "      --disabled-bg-color: #DDD;\n",
       "  }\n",
       "\n",
       "  [theme=dark] .colab-df-quickchart {\n",
       "      --bg-color: #3B4455;\n",
       "      --fill-color: #D2E3FC;\n",
       "      --hover-bg-color: #434B5C;\n",
       "      --hover-fill-color: #FFFFFF;\n",
       "      --disabled-bg-color: #3B4455;\n",
       "      --disabled-fill-color: #666;\n",
       "  }\n",
       "\n",
       "  .colab-df-quickchart {\n",
       "    background-color: var(--bg-color);\n",
       "    border: none;\n",
       "    border-radius: 50%;\n",
       "    cursor: pointer;\n",
       "    display: none;\n",
       "    fill: var(--fill-color);\n",
       "    height: 32px;\n",
       "    padding: 0;\n",
       "    width: 32px;\n",
       "  }\n",
       "\n",
       "  .colab-df-quickchart:hover {\n",
       "    background-color: var(--hover-bg-color);\n",
       "    box-shadow: 0 1px 2px rgba(60, 64, 67, 0.3), 0 1px 3px 1px rgba(60, 64, 67, 0.15);\n",
       "    fill: var(--button-hover-fill-color);\n",
       "  }\n",
       "\n",
       "  .colab-df-quickchart-complete:disabled,\n",
       "  .colab-df-quickchart-complete:disabled:hover {\n",
       "    background-color: var(--disabled-bg-color);\n",
       "    fill: var(--disabled-fill-color);\n",
       "    box-shadow: none;\n",
       "  }\n",
       "\n",
       "  .colab-df-spinner {\n",
       "    border: 2px solid var(--fill-color);\n",
       "    border-color: transparent;\n",
       "    border-bottom-color: var(--fill-color);\n",
       "    animation:\n",
       "      spin 1s steps(1) infinite;\n",
       "  }\n",
       "\n",
       "  @keyframes spin {\n",
       "    0% {\n",
       "      border-color: transparent;\n",
       "      border-bottom-color: var(--fill-color);\n",
       "      border-left-color: var(--fill-color);\n",
       "    }\n",
       "    20% {\n",
       "      border-color: transparent;\n",
       "      border-left-color: var(--fill-color);\n",
       "      border-top-color: var(--fill-color);\n",
       "    }\n",
       "    30% {\n",
       "      border-color: transparent;\n",
       "      border-left-color: var(--fill-color);\n",
       "      border-top-color: var(--fill-color);\n",
       "      border-right-color: var(--fill-color);\n",
       "    }\n",
       "    40% {\n",
       "      border-color: transparent;\n",
       "      border-right-color: var(--fill-color);\n",
       "      border-top-color: var(--fill-color);\n",
       "    }\n",
       "    60% {\n",
       "      border-color: transparent;\n",
       "      border-right-color: var(--fill-color);\n",
       "    }\n",
       "    80% {\n",
       "      border-color: transparent;\n",
       "      border-right-color: var(--fill-color);\n",
       "      border-bottom-color: var(--fill-color);\n",
       "    }\n",
       "    90% {\n",
       "      border-color: transparent;\n",
       "      border-bottom-color: var(--fill-color);\n",
       "    }\n",
       "  }\n",
       "</style>\n",
       "\n",
       "  <script>\n",
       "    async function quickchart(key) {\n",
       "      const quickchartButtonEl =\n",
       "        document.querySelector('#' + key + ' button');\n",
       "      quickchartButtonEl.disabled = true;  // To prevent multiple clicks.\n",
       "      quickchartButtonEl.classList.add('colab-df-spinner');\n",
       "      try {\n",
       "        const charts = await google.colab.kernel.invokeFunction(\n",
       "            'suggestCharts', [key], {});\n",
       "      } catch (error) {\n",
       "        console.error('Error during call to suggestCharts:', error);\n",
       "      }\n",
       "      quickchartButtonEl.classList.remove('colab-df-spinner');\n",
       "      quickchartButtonEl.classList.add('colab-df-quickchart-complete');\n",
       "    }\n",
       "    (() => {\n",
       "      let quickchartButtonEl =\n",
       "        document.querySelector('#df-c8922dc0-3607-4bf4-8111-969d41ca66d6 button');\n",
       "      quickchartButtonEl.style.display =\n",
       "        google.colab.kernel.accessAllowed ? 'block' : 'none';\n",
       "    })();\n",
       "  </script>\n",
       "</div>\n",
       "    </div>\n",
       "  </div>\n"
      ],
      "text/plain": [
       "  diet  preweight  weight6weeks  age  weight_loss age_category\n",
       "0    B         60          60.0   45          0.0          40+\n",
       "1    B        103         103.0   38          0.0        25-40\n",
       "2    A         58          54.2   31         -3.8        25-40\n",
       "3    A         60          54.0   18         -6.0        18-25\n",
       "4    A         64          63.3   35         -0.7        25-40"
      ]
     },
     "execution_count": 11,
     "metadata": {},
     "output_type": "execute_result"
    }
   ],
   "source": [
    "# calculate the weight-loss\n",
    "df['weight_loss'] = df['weight6weeks'] - df['preweight']\n",
    "\n",
    "# Defining the age groups\n",
    "def categorize_age(age):\n",
    "    if age >= 18 and age < 25:\n",
    "        return \"18-25\"\n",
    "    elif age >= 25 and age < 40:\n",
    "        return \"25-40\"\n",
    "    else:\n",
    "        return \"40+\"\n",
    "\n",
    "# Add the 'age' column to the DataFrame\n",
    "df['age_category'] = df['age'].apply(categorize_age)\n",
    "\n",
    "df.head()"
   ]
  },
  {
   "cell_type": "markdown",
   "metadata": {
    "id": "3VeSBZ0d1V8f"
   },
   "source": [
    "* A negative value of `weightloss` indicates that the diet was effective in decreasing the weight of the person after 6 weeks"
   ]
  },
  {
   "cell_type": "markdown",
   "metadata": {
    "id": "-AkWipJIQEP_"
   },
   "source": [
    "#### **Value counts of different types of age category**"
   ]
  },
  {
   "cell_type": "code",
   "execution_count": null,
   "metadata": {
    "colab": {
     "base_uri": "https://localhost:8080/"
    },
    "id": "Btt9yDtvQFTO",
    "outputId": "be98aa2e-5e2e-4c47-fc08-bff68f99c7a0"
   },
   "outputs": [
    {
     "data": {
      "text/plain": [
       "age_category\n",
       "25-40    47\n",
       "40+      19\n",
       "18-25    12\n",
       "Name: count, dtype: int64"
      ]
     },
     "execution_count": 12,
     "metadata": {},
     "output_type": "execute_result"
    }
   ],
   "source": [
    "df.age_category.value_counts()"
   ]
  },
  {
   "cell_type": "markdown",
   "metadata": {
    "id": "6HHbOOzSQN3Q"
   },
   "source": [
    "* Out of a sample of 78 people, 12 are in the 18-25 age category, 47 are in the 25-40 category, and 19 fall into the 40+ category.\n",
    "\n",
    "\n",
    "\n"
   ]
  },
  {
   "cell_type": "markdown",
   "metadata": {
    "id": "7RkN1_aCAU-C"
   },
   "source": [
    "### **Check for Missing Values**"
   ]
  },
  {
   "cell_type": "code",
   "execution_count": null,
   "metadata": {
    "colab": {
     "base_uri": "https://localhost:8080/"
    },
    "id": "KrfDau3OAw7A",
    "outputId": "63f1a839-a0b1-41d4-95d7-6ec30528ebf2"
   },
   "outputs": [
    {
     "data": {
      "text/plain": [
       "diet            0\n",
       "preweight       0\n",
       "weight6weeks    0\n",
       "age             0\n",
       "weight_loss     0\n",
       "age_category    0\n",
       "dtype: int64"
      ]
     },
     "execution_count": 13,
     "metadata": {},
     "output_type": "execute_result"
    }
   ],
   "source": [
    "df.isnull().sum()"
   ]
  },
  {
   "cell_type": "markdown",
   "metadata": {
    "id": "VnDwszFiBEMe"
   },
   "source": [
    "\n",
    "\n",
    "*   There are no missing values present in the dataset.\n",
    "\n",
    "\n"
   ]
  },
  {
   "cell_type": "markdown",
   "metadata": {
    "id": "k_1DYQH4BReu"
   },
   "source": [
    "### **Check for duplicate Values**"
   ]
  },
  {
   "cell_type": "code",
   "execution_count": null,
   "metadata": {
    "colab": {
     "base_uri": "https://localhost:8080/"
    },
    "id": "9dpMoZGHB3ez",
    "outputId": "3b1a0ad7-8449-486f-ad33-5b6e876c87c6"
   },
   "outputs": [
    {
     "data": {
      "text/plain": [
       "0"
      ]
     },
     "execution_count": 14,
     "metadata": {},
     "output_type": "execute_result"
    }
   ],
   "source": [
    "df.duplicated().sum()"
   ]
  },
  {
   "cell_type": "markdown",
   "metadata": {
    "id": "ZnR6dwHzCBiW"
   },
   "source": [
    "* There are no duplicate values present in the dataset."
   ]
  },
  {
   "cell_type": "markdown",
   "metadata": {
    "id": "EHAML7JV1oN9"
   },
   "source": [
    "### **Visualize data**"
   ]
  },
  {
   "cell_type": "code",
   "execution_count": null,
   "metadata": {
    "colab": {
     "base_uri": "https://localhost:8080/"
    },
    "id": "E6_FHrRdrl97",
    "outputId": "553114c0-d667-4396-f559-84c0d6934309"
   },
   "outputs": [
    {
     "data": {
      "image/png": "[encoded data removed]",
      "text/plain": [
       "<Figure size 640x480 with 1 Axes>"
      ]
     },
     "metadata": {},
     "output_type": "display_data"
    }
   ],
   "source": [
    "# visual analysis of the weightloss for the three diet-plans\n",
    "sns.boxplot(x=\"diet\", y=\"weight_loss\", data = df)\n",
    "plt.show()"
   ]
  },
  {
   "cell_type": "code",
   "execution_count": null,
   "metadata": {
    "colab": {
     "base_uri": "https://localhost:8080/"
    },
    "id": "_YR5o_DWSZMe",
    "outputId": "27b95d65-1489-4138-84b4-6bc1e7e88c9c"
   },
   "outputs": [
    {
     "data": {
      "image/png": "[encoded data removed]",
      "text/plain": [
       "<Figure size 640x480 with 1 Axes>"
      ]
     },
     "metadata": {},
     "output_type": "display_data"
    }
   ],
   "source": [
    "# Visual analysis of the weight loss for the three diet-plans with hue based on 'age' column\n",
    "sns.boxplot(x=\"diet\", y=\"weight_loss\", hue=\"age_category\", data=df)\n",
    "plt.show()"
   ]
  },
  {
   "cell_type": "markdown",
   "metadata": {
    "id": "YXCNIWtyrl98"
   },
   "source": [
    "* The distribution of weight loss seem to differ among the three groups.\n",
    "* Diet plan C seems to impact the highest weight loss.\n",
    "* The median weight loss seems to be very close for the plans A and B, but the variation is higher in the weight-losses by diet-plan B as compared to A.\n",
    "* Is the osberved difference in weight loss among the three groups significant enough to conclude the same about the three diet plans? To determine this, we will test the difference using a statistical test."
   ]
  },
  {
   "cell_type": "markdown",
   "metadata": {
    "id": "p-63BK922TZR"
   },
   "source": [
    "## **Hypothesis Testing**"
   ]
  },
  {
   "cell_type": "markdown",
   "metadata": {
    "id": "LP-q36P4-W2t"
   },
   "source": [
    "### **Hypothesis - 1**"
   ]
  },
  {
   "cell_type": "markdown",
   "metadata": {
    "id": "8l6egG90rl98"
   },
   "source": [
    "#### **Step 1: Define null and alternative hypotheses for One-Way ANONA**"
   ]
  },
  {
   "cell_type": "markdown",
   "metadata": {
    "id": "5C2LF9Un15Lm"
   },
   "source": [
    "The null and alternative hypotheses can be formulated as:\n",
    "\n",
    "> $H_0$ : The mean weight losses with respect to each **diet category** is equal. <br>\n",
    "> $H_a$ : At least one of the mean weight losses with respect to the three **diet category** is different."
   ]
  },
  {
   "cell_type": "markdown",
   "metadata": {
    "id": "2ej13Tp8rl98"
   },
   "source": [
    "#### **Step 2: Select Appropriate test**"
   ]
  },
  {
   "cell_type": "markdown",
   "metadata": {
    "id": "csIIeSGirl98"
   },
   "source": [
    "This is a problem, concerning three population means. One-way ANOVA is an appropriate test here provided normality and equality of variance assumptions are verified.\n",
    "\n",
    "**One-way ANOVA test**\n",
    "\n",
    "In a one-way ANOVA test, we compare the means from several populations to test if there is any significance difference between them. The results from an ANOVA test are most reliable when the assumptions of normality and equality of variances are satisfied.\n",
    "\n",
    "* For testing of normality, Shapiro-Wilk’s test is applied to the response variable.\n",
    "\n",
    "* For equality of variance, Levene test is applied to the response variable."
   ]
  },
  {
   "cell_type": "markdown",
   "metadata": {
    "id": "UnG4Lod3rl99"
   },
   "source": [
    "**Shapiro-Wilk’s test**\n",
    "\n",
    "We will test the null hypothesis\n",
    "\n",
    ">$H_0:$ The weight losses follow a normal distribution\n",
    "\n",
    "against the alternative hypothesis\n",
    "\n",
    ">$H_a:$ The weight losses do not not follow a normal distribution"
   ]
  },
  {
   "cell_type": "code",
   "execution_count": null,
   "metadata": {
    "colab": {
     "base_uri": "https://localhost:8080/"
    },
    "id": "1Tf_n6RFrl99",
    "outputId": "446ddd20-2448-4aa9-ad27-c5d675f4b75a"
   },
   "outputs": [
    {
     "name": "stdout",
     "output_type": "stream",
     "text": [
      "The p-value is 0.8019888997077942\n"
     ]
    }
   ],
   "source": [
    "# Assumption 1: Normality\n",
    "# Use the shapiro function for the scipy.stats library for this test\n",
    "\n",
    "# find the p-value\n",
    "w, p_value = stats.shapiro(df['weight_loss'])\n",
    "print('The p-value is', p_value)"
   ]
  },
  {
   "cell_type": "markdown",
   "metadata": {
    "id": "vag3cHsnrl99"
   },
   "source": [
    "Since p-value of the test is larger than the 5% significance level, we fail to reject the null hypothesis that the response follows the normal distribution."
   ]
  },
  {
   "cell_type": "markdown",
   "metadata": {
    "id": "W9wXJzX6rl99"
   },
   "source": [
    "**Levene’s test**\n",
    "\n",
    "We will test the null hypothesis\n",
    "\n",
    ">$H_0$: All the population variances are equal\n",
    "\n",
    "against the alternative hypothesis\n",
    "\n",
    ">$H_a$: At least one variance is different from the rest"
   ]
  },
  {
   "cell_type": "code",
   "execution_count": null,
   "metadata": {
    "colab": {
     "base_uri": "https://localhost:8080/"
    },
    "id": "FNK04dGHrl99",
    "outputId": "12fcd1f3-d457-4e59-c5eb-4fcb8baa11dc"
   },
   "outputs": [
    {
     "name": "stdout",
     "output_type": "stream",
     "text": [
      "The p-value is 0.5376731304274011\n"
     ]
    }
   ],
   "source": [
    "#Assumption 2: Homogeneity of Variance\n",
    "# use levene function from scipy.stats library for this test\n",
    "\n",
    "# find the p-value\n",
    "statistic, p_value = stats.levene(df[df['diet']=='A']['weight_loss'],\n",
    "                            df[df['diet']=='B']['weight_loss'],\n",
    "                            df[df['diet']=='C']['weight_loss'])\n",
    "print('The p-value is', p_value)"
   ]
  },
  {
   "cell_type": "markdown",
   "metadata": {
    "id": "D5y3Wcbfrl99"
   },
   "source": [
    "Since the p-value is large than the 5% significance level, we fail to reject the null hypothesis of homogeneity of variances."
   ]
  },
  {
   "cell_type": "markdown",
   "metadata": {
    "id": "yvuApOr1rl9-"
   },
   "source": [
    "#### **Step 3: Decide the significance level**"
   ]
  },
  {
   "cell_type": "markdown",
   "metadata": {
    "id": "2A2Gfma5rl9-"
   },
   "source": [
    "As given in the problem statement, we select $\\alpha = 0.05$"
   ]
  },
  {
   "cell_type": "markdown",
   "metadata": {
    "id": "bb3tjjI9rl9-"
   },
   "source": [
    "#### **Step 4: Collect and prepare data**"
   ]
  },
  {
   "cell_type": "code",
   "execution_count": null,
   "metadata": {
    "id": "AnaVWddYrl9-"
   },
   "outputs": [],
   "source": [
    "# create separate variables to store the weightlosses with respect to the three diet-plans\n",
    "weightloss_diet_A = df[df['diet']=='A']['weight_loss']\n",
    "weightloss_diet_B = df[df['diet']=='B']['weight_loss']\n",
    "weightloss_diet_C = df[df['diet']=='C']['weight_loss']"
   ]
  },
  {
   "cell_type": "markdown",
   "metadata": {
    "id": "0j9FQc1Vrl9-"
   },
   "source": [
    "#### **Step 5: Calculate the p-value**"
   ]
  },
  {
   "cell_type": "markdown",
   "metadata": {
    "id": "A2o3S2sb4YSG"
   },
   "source": [
    "- We will use the `f_oneway()` function from the `scipy.stats` library to perform a one-way ANOVA test.\n",
    "- The `f_oneway()` function takes the sample observations from the different groups and returns the test statistic and the p-value for the test.\n",
    "    - The sample observations are the values of weight losses with respect to the three diet-plans."
   ]
  },
  {
   "cell_type": "code",
   "execution_count": null,
   "metadata": {
    "ExecuteTime": {
     "end_time": "2020-05-06T07:31:40.967079Z",
     "start_time": "2020-05-06T07:31:40.922403Z"
    },
    "colab": {
     "base_uri": "https://localhost:8080/"
    },
    "id": "PAwO0g0frl9-",
    "outputId": "04386069-5cd5-4a09-fe8c-684e34c4bca4"
   },
   "outputs": [
    {
     "name": "stdout",
     "output_type": "stream",
     "text": [
      "The p-value is  0.0032290142385893524\n"
     ]
    }
   ],
   "source": [
    "# import the required function\n",
    "from scipy.stats import f_oneway\n",
    "\n",
    "# find the p-value\n",
    "test_stat, p_value = f_oneway(weightloss_diet_A, weightloss_diet_B, weightloss_diet_C)\n",
    "print('The p-value is ', p_value)"
   ]
  },
  {
   "cell_type": "markdown",
   "metadata": {
    "id": "v2BOfCZyrl9-"
   },
   "source": [
    "#### **Step 6: Compare the p-value with $\\alpha$**"
   ]
  },
  {
   "cell_type": "code",
   "execution_count": null,
   "metadata": {
    "colab": {
     "base_uri": "https://localhost:8080/"
    },
    "id": "77K1phgXrl9-",
    "outputId": "c359dc1a-4d9c-40ca-d602-aac8882635cc"
   },
   "outputs": [
    {
     "name": "stdout",
     "output_type": "stream",
     "text": [
      "As the p-value 0.0032290142385893524 is less than the level of significance, we reject the null hypothesis.\n"
     ]
    }
   ],
   "source": [
    "# print the conclusion based on p-value\n",
    "if p_value < 0.05:\n",
    "    print(f'As the p-value {p_value} is less than the level of significance, we reject the null hypothesis.')\n",
    "else:\n",
    "    print(f'As the p-value {p_value} is greater than the level of significance, we fail to reject the null hypothesis.')"
   ]
  },
  {
   "cell_type": "markdown",
   "metadata": {
    "id": "-KvFxrA_rl9_"
   },
   "source": [
    "#### **Step 7:  Draw inference**"
   ]
  },
  {
   "cell_type": "markdown",
   "metadata": {
    "id": "AuaaUbZErl9_"
   },
   "source": [
    "Since the p-value is less than the level of significance (5%), we reject the null hypothesis. Hence, we have enough statistical evidence to say that at least one of the mean weight losses with respect to the three diet-plans is different."
   ]
  },
  {
   "cell_type": "markdown",
   "metadata": {
    "id": "QaoHZji5_yKa"
   },
   "source": [
    "### **Hypothesis - 2**"
   ]
  },
  {
   "cell_type": "markdown",
   "metadata": {
    "id": "LuMEGc_g_yKb"
   },
   "source": [
    "#### **Step 1: Define null and alternative hypotheses for One-Way ANONA**"
   ]
  },
  {
   "cell_type": "markdown",
   "metadata": {
    "id": "KC-hqQg3_4eI"
   },
   "source": [
    "The null and alternative hypotheses can be formulated as:\n",
    "\n",
    "> $H_0$ : The mean weight losses with respect to each **age category** is equal. <br>\n",
    "> $H_a$ : At least one of the mean weight losses with respect to the three **age category** is different."
   ]
  },
  {
   "cell_type": "markdown",
   "metadata": {
    "id": "7ab2K1pF_yKb"
   },
   "source": [
    "#### **Step 2: Select Appropriate test**"
   ]
  },
  {
   "cell_type": "markdown",
   "metadata": {
    "id": "i3q4j5Ni_yKc"
   },
   "source": [
    "This is a problem, concerning three population means. One-way ANOVA is an appropriate test here provided normality and equality of variance assumptions are verified.\n",
    "\n",
    "**One-way ANOVA test**\n",
    "\n",
    "In a one-way ANOVA test, we compare the means from several populations to test if there is any significance difference between them. The results from an ANOVA test are most reliable when the assumptions of normality and equality of variances are satisfied.\n",
    "\n",
    "* For testing of normality, Shapiro-Wilk’s test is applied to the response variable.\n",
    "\n",
    "* For equality of variance, Levene test is applied to the response variable.\n",
    "\n",
    "* We've conducted thorough evaluation for test on `weight_loss` and our findings indicate that we cannot reject the null hypothesis for either of these assessments."
   ]
  },
  {
   "cell_type": "markdown",
   "metadata": {
    "id": "brEEyYISGy_M"
   },
   "source": [
    "**Levene’s test**\n",
    "\n",
    "We will test the null hypothesis\n",
    "\n",
    ">$H_0$: All the population variances are equal\n",
    "\n",
    "against the alternative hypothesis\n",
    "\n",
    ">$H_a$: At least one variance is different from the rest"
   ]
  },
  {
   "cell_type": "code",
   "execution_count": null,
   "metadata": {
    "colab": {
     "base_uri": "https://localhost:8080/"
    },
    "id": "SJEMy230Gy_c",
    "outputId": "497d447b-d8f8-411f-87b7-39f831a01a51"
   },
   "outputs": [
    {
     "name": "stdout",
     "output_type": "stream",
     "text": [
      "The p-value is 0.12538330776005183\n"
     ]
    }
   ],
   "source": [
    "#Assumption 2: Homogeneity of Variance\n",
    "# use levene function from scipy.stats library for this test\n",
    "\n",
    "# find the p-value\n",
    "statistic, p_value = stats.levene(df[df['age_category']=='40+']['weight_loss'],\n",
    "                            df[df['age_category']=='25-40']['weight_loss'],\n",
    "                            df[df['age_category']=='18-25']['weight_loss'])\n",
    "print('The p-value is', p_value)"
   ]
  },
  {
   "cell_type": "markdown",
   "metadata": {
    "id": "dhOUWKg3Gy_d"
   },
   "source": [
    "Since the p-value is large than the 5% significance level, we fail to reject the null hypothesis of homogeneity of variances."
   ]
  },
  {
   "cell_type": "markdown",
   "metadata": {
    "id": "Fn7cQn7f_yKe"
   },
   "source": [
    "#### **Step 3: Decide the significance level**"
   ]
  },
  {
   "cell_type": "markdown",
   "metadata": {
    "id": "degagmNH_yKe"
   },
   "source": [
    "As given in the problem statement, we select $\\alpha = 0.05$"
   ]
  },
  {
   "cell_type": "markdown",
   "metadata": {
    "id": "QexUBKkr_yKe"
   },
   "source": [
    "#### **Step 4: Collect and prepare data**"
   ]
  },
  {
   "cell_type": "code",
   "execution_count": null,
   "metadata": {
    "id": "b1u-uXCk_yKe"
   },
   "outputs": [],
   "source": [
    "# create separate variables to store the weightlosses with respect to the three diet-plans\n",
    "weightloss_Elderly = df[df['age_category']=='40+']['weight_loss']\n",
    "weightloss_Middle_aged = df[df['age_category']=='25-40']['weight_loss']\n",
    "weightloss_Young = df[df['age_category']=='18-25']['weight_loss']"
   ]
  },
  {
   "cell_type": "markdown",
   "metadata": {
    "id": "GzW6rUSH_yKe"
   },
   "source": [
    "#### **Step 5: Calculate the p-value**"
   ]
  },
  {
   "cell_type": "markdown",
   "metadata": {
    "id": "gIxlxE18_yKe"
   },
   "source": [
    "- We will use the `f_oneway()` function from the `scipy.stats` library to perform a one-way ANOVA test.\n",
    "- The `f_oneway()` function takes the sample observations from the different groups and returns the test statistic and the p-value for the test.\n",
    "    - The sample observations are the values of weight losses with respect to the three age categories."
   ]
  },
  {
   "cell_type": "code",
   "execution_count": null,
   "metadata": {
    "ExecuteTime": {
     "end_time": "2020-05-06T07:31:40.967079Z",
     "start_time": "2020-05-06T07:31:40.922403Z"
    },
    "colab": {
     "base_uri": "https://localhost:8080/"
    },
    "id": "ORxcl_9T_yKf",
    "outputId": "66f0f138-c18b-46ac-919f-7ce3b3c65279"
   },
   "outputs": [
    {
     "name": "stdout",
     "output_type": "stream",
     "text": [
      "The p-value is  0.05544168556142372\n"
     ]
    }
   ],
   "source": [
    "# import the required function\n",
    "from scipy.stats import f_oneway\n",
    "\n",
    "# find the p-value\n",
    "test_stat, p_value = f_oneway(weightloss_Elderly, weightloss_Middle_aged, weightloss_Young)\n",
    "print('The p-value is ', p_value)"
   ]
  },
  {
   "cell_type": "markdown",
   "metadata": {
    "id": "rt0Dnj5Z_yKf"
   },
   "source": [
    "#### **Step 6: Compare the p-value with $\\alpha$**"
   ]
  },
  {
   "cell_type": "code",
   "execution_count": null,
   "metadata": {
    "colab": {
     "base_uri": "https://localhost:8080/"
    },
    "id": "yZckBPOE_yKf",
    "outputId": "cb587ba9-fd5a-4881-8d75-5a7d6ee05236"
   },
   "outputs": [
    {
     "name": "stdout",
     "output_type": "stream",
     "text": [
      "As the p-value 0.05544168556142372 is greater than the level of significance, we fail to reject the null hypothesis.\n"
     ]
    }
   ],
   "source": [
    "# print the conclusion based on p-value\n",
    "if p_value < 0.05:\n",
    "    print(f'As the p-value {p_value} is less than the level of significance, we reject the null hypothesis.')\n",
    "else:\n",
    "    print(f'As the p-value {p_value} is greater than the level of significance, we fail to reject the null hypothesis.')"
   ]
  },
  {
   "cell_type": "markdown",
   "metadata": {
    "id": "YXno_hj0_yKf"
   },
   "source": [
    "#### **Step 7:  Draw inference**"
   ]
  },
  {
   "cell_type": "markdown",
   "metadata": {
    "id": "uYeGaVpH_yKf"
   },
   "source": [
    "Since the p-value is greater than the level of significance (5%), we fail to reject the null hypothesis. Hence, we have do not enough statistical evidence to conclude that the mean weight losses is different for at least one age category."
   ]
  },
  {
   "cell_type": "markdown",
   "metadata": {
    "id": "joLjGXQh3-Rt"
   },
   "source": [
    "### **Hypothesis - 3**"
   ]
  },
  {
   "cell_type": "markdown",
   "metadata": {
    "id": "iuoX_z7RHJFY"
   },
   "source": [
    "#### **Step 1: Define null and alternative hypotheses for Two-Way ANONA**"
   ]
  },
  {
   "cell_type": "markdown",
   "metadata": {
    "id": "Nj0MIt3FHJFh"
   },
   "source": [
    "The null and alternative hypotheses can be formulated as:\n",
    "\n",
    "> $H_0$ : The effect of `diet` on `weight_loss` does not depend on the effect of the `age_category` variable (a.k.a. no interaction effect)\n",
    "\n",
    "> $H_a$ : There is an interaction effect between `diet` and `age_category` on `weight_loss`."
   ]
  },
  {
   "cell_type": "markdown",
   "metadata": {
    "id": "7HCqFiHNHJFi"
   },
   "source": [
    "#### **Step 2: Select Appropriate test**"
   ]
  },
  {
   "cell_type": "markdown",
   "metadata": {
    "id": "AZkPZojQHJFi"
   },
   "source": [
    "This is a problem, concerning the effect of two independent variables on a dependent variable. **Two-way ANOVA test** is an appropriate test here.\n",
    "\n",
    "Following are the assumptions of the Two-way ANOVA test:\n",
    "\n",
    "* The populations from which the samples are obtained must be normally distributed.\n",
    "* Sampling is done correctly. Observations for within and between groups must be independent.\n",
    "* The variances among populations must be equal (homoscedastic).\n",
    "* The dependent data must be measured at an interval scale.\n",
    "\n",
    "\n",
    "\n",
    "\n",
    "\n",
    "\n",
    "\n",
    "\n"
   ]
  },
  {
   "cell_type": "markdown",
   "metadata": {
    "id": "J5bEtC-eHJFi"
   },
   "source": [
    "#### **Step 3: Decide the significance level**"
   ]
  },
  {
   "cell_type": "markdown",
   "metadata": {
    "id": "q6N3UokFHJFi"
   },
   "source": [
    "As given in the problem statement, we select $\\alpha = 0.05$"
   ]
  },
  {
   "cell_type": "markdown",
   "metadata": {
    "id": "Nb4yxUgoHJFi"
   },
   "source": [
    "#### **Step 4: Check for Interaction Effect**"
   ]
  },
  {
   "cell_type": "markdown",
   "metadata": {
    "id": "5VdI2ZdjHJFj"
   },
   "source": [
    "\n",
    "- We will now analyse the effect of both the `diet` and `age_category` on the `weight_loss` variable."
   ]
  },
  {
   "cell_type": "code",
   "execution_count": null,
   "metadata": {
    "colab": {
     "base_uri": "https://localhost:8080/"
    },
    "id": "y1frJepKQ3up",
    "outputId": "2f15ce1d-3170-4cac-e353-6441e686e5cc"
   },
   "outputs": [
    {
     "data": {
      "image/png": "[encoded data removed]",
      "text/plain": [
       "<Figure size 640x480 with 1 Axes>"
      ]
     },
     "metadata": {},
     "output_type": "display_data"
    }
   ],
   "source": [
    "from statsmodels.graphics.factorplots import interaction_plot\n",
    "interaction_plot(np.array(df['diet']),np.array(df['age_category']),np.array(df['weight_loss']),markers=['D','^','o']);"
   ]
  },
  {
   "cell_type": "markdown",
   "metadata": {
    "id": "Nz2x4bTHRFPW"
   },
   "source": [
    "- We can see that there is some sort of interaction between the `diet` and `age_category`."
   ]
  },
  {
   "cell_type": "markdown",
   "metadata": {
    "id": "Rb9wUlDzQZxp"
   },
   "source": [
    "#### **Step 5: Calculate the p-value**"
   ]
  },
  {
   "cell_type": "code",
   "execution_count": null,
   "metadata": {
    "colab": {
     "base_uri": "https://localhost:8080/"
    },
    "id": "yqvKWBFORKyx",
    "outputId": "7f79f10e-b030-4697-9247-a320c78e4b23"
   },
   "outputs": [
    {
     "data": {
      "application/vnd.google.colaboratory.intrinsic+json": {
       "summary": "{\n  \"name\": \"aov_table\",\n  \"rows\": 4,\n  \"fields\": [\n    {\n      \"column\": \"df\",\n      \"properties\": {\n        \"dtype\": \"number\",\n        \"std\": 33.1800642956982,\n        \"min\": 2.0,\n        \"max\": 69.0,\n        \"num_unique_values\": 3,\n        \"samples\": [\n          2.0,\n          4.0,\n          69.0\n        ],\n        \"semantic_type\": \"\",\n        \"description\": \"\"\n      }\n    },\n    {\n      \"column\": \"sum_sq\",\n      \"properties\": {\n        \"dtype\": \"number\",\n        \"std\": 173.51040195338533,\n        \"min\": 17.49799990466915,\n        \"max\": 383.29092982456126,\n        \"num_unique_values\": 4,\n        \"samples\": [\n          17.49799990466915,\n          383.29092982456126,\n          71.09368945868945\n        ],\n        \"semantic_type\": \"\",\n        \"description\": \"\"\n      }\n    },\n    {\n      \"column\": \"mean_sq\",\n      \"properties\": {\n        \"dtype\": \"number\",\n        \"std\": 14.225026997616645,\n        \"min\": 5.554941011950163,\n        \"max\": 35.54684472934473,\n        \"num_unique_values\": 4,\n        \"samples\": [\n          8.748999952334575,\n          5.554941011950163,\n          35.54684472934473\n        ],\n        \"semantic_type\": \"\",\n        \"description\": \"\"\n      }\n    },\n    {\n      \"column\": \"F\",\n      \"properties\": {\n        \"dtype\": \"number\",\n        \"std\": 2.8608319729575173,\n        \"min\": 1.322711144312884,\n        \"max\": 6.399139910374199,\n        \"num_unique_values\": 3,\n        \"samples\": [\n          6.399139910374199,\n          1.5749942138923054,\n          1.322711144312884\n        ],\n        \"semantic_type\": \"\",\n        \"description\": \"\"\n      }\n    },\n    {\n      \"column\": \"PR(>F)\",\n      \"properties\": {\n        \"dtype\": \"number\",\n        \"std\": 0.1410519736735735,\n        \"min\": 0.0028224076412620225,\n        \"max\": 0.2702264784075801,\n        \"num_unique_values\": 3,\n        \"samples\": [\n          0.0028224076412620225,\n          0.2143593647166338,\n          0.2702264784075801\n        ],\n        \"semantic_type\": \"\",\n        \"description\": \"\"\n      }\n    }\n  ]\n}",
       "type": "dataframe",
       "variable_name": "aov_table"
      },
      "text/html": [
       "\n",
       "  <div id=\"df-1a1eb15a-a5a0-4d65-9157-79c942aa9fe5\" class=\"colab-df-container\">\n",
       "    <div>\n",
       "<style scoped>\n",
       "    .dataframe tbody tr th:only-of-type {\n",
       "        vertical-align: middle;\n",
       "    }\n",
       "\n",
       "    .dataframe tbody tr th {\n",
       "        vertical-align: top;\n",
       "    }\n",
       "\n",
       "    .dataframe thead th {\n",
       "        text-align: right;\n",
       "    }\n",
       "</style>\n",
       "<table border=\"1\" class=\"dataframe\">\n",
       "  <thead>\n",
       "    <tr style=\"text-align: right;\">\n",
       "      <th></th>\n",
       "      <th>df</th>\n",
       "      <th>sum_sq</th>\n",
       "      <th>mean_sq</th>\n",
       "      <th>F</th>\n",
       "      <th>PR(&gt;F)</th>\n",
       "    </tr>\n",
       "  </thead>\n",
       "  <tbody>\n",
       "    <tr>\n",
       "      <th>C(diet)</th>\n",
       "      <td>2.0</td>\n",
       "      <td>71.093689</td>\n",
       "      <td>35.546845</td>\n",
       "      <td>6.399140</td>\n",
       "      <td>0.002822</td>\n",
       "    </tr>\n",
       "    <tr>\n",
       "      <th>C(age_category)</th>\n",
       "      <td>2.0</td>\n",
       "      <td>17.498000</td>\n",
       "      <td>8.749000</td>\n",
       "      <td>1.574994</td>\n",
       "      <td>0.214359</td>\n",
       "    </tr>\n",
       "    <tr>\n",
       "      <th>C(diet):C(age_category)</th>\n",
       "      <td>4.0</td>\n",
       "      <td>29.390330</td>\n",
       "      <td>7.347582</td>\n",
       "      <td>1.322711</td>\n",
       "      <td>0.270226</td>\n",
       "    </tr>\n",
       "    <tr>\n",
       "      <th>Residual</th>\n",
       "      <td>69.0</td>\n",
       "      <td>383.290930</td>\n",
       "      <td>5.554941</td>\n",
       "      <td>NaN</td>\n",
       "      <td>NaN</td>\n",
       "    </tr>\n",
       "  </tbody>\n",
       "</table>\n",
       "</div>\n",
       "    <div class=\"colab-df-buttons\">\n",
       "\n",
       "  <div class=\"colab-df-container\">\n",
       "    <button class=\"colab-df-convert\" onclick=\"convertToInteractive('df-1a1eb15a-a5a0-4d65-9157-79c942aa9fe5')\"\n",
       "            title=\"Convert this dataframe to an interactive table.\"\n",
       "            style=\"display:none;\">\n",
       "\n",
       "  <svg xmlns=\"http://www.w3.org/2000/svg\" height=\"24px\" viewBox=\"0 -960 960 960\">\n",
       "    <path d=\"M120-120v-720h720v720H120Zm60-500h600v-160H180v160Zm220 220h160v-160H400v160Zm0 220h160v-160H400v160ZM180-400h160v-160H180v160Zm440 0h160v-160H620v160ZM180-180h160v-160H180v160Zm440 0h160v-160H620v160Z\"/>\n",
       "  </svg>\n",
       "    </button>\n",
       "\n",
       "  <style>\n",
       "    .colab-df-container {\n",
       "      display:flex;\n",
       "      gap: 12px;\n",
       "    }\n",
       "\n",
       "    .colab-df-convert {\n",
       "      background-color: #E8F0FE;\n",
       "      border: none;\n",
       "      border-radius: 50%;\n",
       "      cursor: pointer;\n",
       "      display: none;\n",
       "      fill: #1967D2;\n",
       "      height: 32px;\n",
       "      padding: 0 0 0 0;\n",
       "      width: 32px;\n",
       "    }\n",
       "\n",
       "    .colab-df-convert:hover {\n",
       "      background-color: #E2EBFA;\n",
       "      box-shadow: 0px 1px 2px rgba(60, 64, 67, 0.3), 0px 1px 3px 1px rgba(60, 64, 67, 0.15);\n",
       "      fill: #174EA6;\n",
       "    }\n",
       "\n",
       "    .colab-df-buttons div {\n",
       "      margin-bottom: 4px;\n",
       "    }\n",
       "\n",
       "    [theme=dark] .colab-df-convert {\n",
       "      background-color: #3B4455;\n",
       "      fill: #D2E3FC;\n",
       "    }\n",
       "\n",
       "    [theme=dark] .colab-df-convert:hover {\n",
       "      background-color: #434B5C;\n",
       "      box-shadow: 0px 1px 3px 1px rgba(0, 0, 0, 0.15);\n",
       "      filter: drop-shadow(0px 1px 2px rgba(0, 0, 0, 0.3));\n",
       "      fill: #FFFFFF;\n",
       "    }\n",
       "  </style>\n",
       "\n",
       "    <script>\n",
       "      const buttonEl =\n",
       "        document.querySelector('#df-1a1eb15a-a5a0-4d65-9157-79c942aa9fe5 button.colab-df-convert');\n",
       "      buttonEl.style.display =\n",
       "        google.colab.kernel.accessAllowed ? 'block' : 'none';\n",
       "\n",
       "      async function convertToInteractive(key) {\n",
       "        const element = document.querySelector('#df-1a1eb15a-a5a0-4d65-9157-79c942aa9fe5');\n",
       "        const dataTable =\n",
       "          await google.colab.kernel.invokeFunction('convertToInteractive',\n",
       "                                                    [key], {});\n",
       "        if (!dataTable) return;\n",
       "\n",
       "        const docLinkHtml = 'Like what you see? Visit the ' +\n",
       "          '<a target=\"_blank\" href=https://colab.research.google.com/notebooks/data_table.ipynb>data table notebook</a>'\n",
       "          + ' to learn more about interactive tables.';\n",
       "        element.innerHTML = '';\n",
       "        dataTable['output_type'] = 'display_data';\n",
       "        await google.colab.output.renderOutput(dataTable, element);\n",
       "        const docLink = document.createElement('div');\n",
       "        docLink.innerHTML = docLinkHtml;\n",
       "        element.appendChild(docLink);\n",
       "      }\n",
       "    </script>\n",
       "  </div>\n",
       "\n",
       "\n",
       "<div id=\"df-7ee0085d-f00f-4be2-a202-6279960ade85\">\n",
       "  <button class=\"colab-df-quickchart\" onclick=\"quickchart('df-7ee0085d-f00f-4be2-a202-6279960ade85')\"\n",
       "            title=\"Suggest charts\"\n",
       "            style=\"display:none;\">\n",
       "\n",
       "<svg xmlns=\"http://www.w3.org/2000/svg\" height=\"24px\"viewBox=\"0 0 24 24\"\n",
       "     width=\"24px\">\n",
       "    <g>\n",
       "        <path d=\"M19 3H5c-1.1 0-2 .9-2 2v14c0 1.1.9 2 2 2h14c1.1 0 2-.9 2-2V5c0-1.1-.9-2-2-2zM9 17H7v-7h2v7zm4 0h-2V7h2v10zm4 0h-2v-4h2v4z\"/>\n",
       "    </g>\n",
       "</svg>\n",
       "  </button>\n",
       "\n",
       "<style>\n",
       "  .colab-df-quickchart {\n",
       "      --bg-color: #E8F0FE;\n",
       "      --fill-color: #1967D2;\n",
       "      --hover-bg-color: #E2EBFA;\n",
       "      --hover-fill-color: #174EA6;\n",
       "      --disabled-fill-color: #AAA;\n",
       "      --disabled-bg-color: #DDD;\n",
       "  }\n",
       "\n",
       "  [theme=dark] .colab-df-quickchart {\n",
       "      --bg-color: #3B4455;\n",
       "      --fill-color: #D2E3FC;\n",
       "      --hover-bg-color: #434B5C;\n",
       "      --hover-fill-color: #FFFFFF;\n",
       "      --disabled-bg-color: #3B4455;\n",
       "      --disabled-fill-color: #666;\n",
       "  }\n",
       "\n",
       "  .colab-df-quickchart {\n",
       "    background-color: var(--bg-color);\n",
       "    border: none;\n",
       "    border-radius: 50%;\n",
       "    cursor: pointer;\n",
       "    display: none;\n",
       "    fill: var(--fill-color);\n",
       "    height: 32px;\n",
       "    padding: 0;\n",
       "    width: 32px;\n",
       "  }\n",
       "\n",
       "  .colab-df-quickchart:hover {\n",
       "    background-color: var(--hover-bg-color);\n",
       "    box-shadow: 0 1px 2px rgba(60, 64, 67, 0.3), 0 1px 3px 1px rgba(60, 64, 67, 0.15);\n",
       "    fill: var(--button-hover-fill-color);\n",
       "  }\n",
       "\n",
       "  .colab-df-quickchart-complete:disabled,\n",
       "  .colab-df-quickchart-complete:disabled:hover {\n",
       "    background-color: var(--disabled-bg-color);\n",
       "    fill: var(--disabled-fill-color);\n",
       "    box-shadow: none;\n",
       "  }\n",
       "\n",
       "  .colab-df-spinner {\n",
       "    border: 2px solid var(--fill-color);\n",
       "    border-color: transparent;\n",
       "    border-bottom-color: var(--fill-color);\n",
       "    animation:\n",
       "      spin 1s steps(1) infinite;\n",
       "  }\n",
       "\n",
       "  @keyframes spin {\n",
       "    0% {\n",
       "      border-color: transparent;\n",
       "      border-bottom-color: var(--fill-color);\n",
       "      border-left-color: var(--fill-color);\n",
       "    }\n",
       "    20% {\n",
       "      border-color: transparent;\n",
       "      border-left-color: var(--fill-color);\n",
       "      border-top-color: var(--fill-color);\n",
       "    }\n",
       "    30% {\n",
       "      border-color: transparent;\n",
       "      border-left-color: var(--fill-color);\n",
       "      border-top-color: var(--fill-color);\n",
       "      border-right-color: var(--fill-color);\n",
       "    }\n",
       "    40% {\n",
       "      border-color: transparent;\n",
       "      border-right-color: var(--fill-color);\n",
       "      border-top-color: var(--fill-color);\n",
       "    }\n",
       "    60% {\n",
       "      border-color: transparent;\n",
       "      border-right-color: var(--fill-color);\n",
       "    }\n",
       "    80% {\n",
       "      border-color: transparent;\n",
       "      border-right-color: var(--fill-color);\n",
       "      border-bottom-color: var(--fill-color);\n",
       "    }\n",
       "    90% {\n",
       "      border-color: transparent;\n",
       "      border-bottom-color: var(--fill-color);\n",
       "    }\n",
       "  }\n",
       "</style>\n",
       "\n",
       "  <script>\n",
       "    async function quickchart(key) {\n",
       "      const quickchartButtonEl =\n",
       "        document.querySelector('#' + key + ' button');\n",
       "      quickchartButtonEl.disabled = true;  // To prevent multiple clicks.\n",
       "      quickchartButtonEl.classList.add('colab-df-spinner');\n",
       "      try {\n",
       "        const charts = await google.colab.kernel.invokeFunction(\n",
       "            'suggestCharts', [key], {});\n",
       "      } catch (error) {\n",
       "        console.error('Error during call to suggestCharts:', error);\n",
       "      }\n",
       "      quickchartButtonEl.classList.remove('colab-df-spinner');\n",
       "      quickchartButtonEl.classList.add('colab-df-quickchart-complete');\n",
       "    }\n",
       "    (() => {\n",
       "      let quickchartButtonEl =\n",
       "        document.querySelector('#df-7ee0085d-f00f-4be2-a202-6279960ade85 button');\n",
       "      quickchartButtonEl.style.display =\n",
       "        google.colab.kernel.accessAllowed ? 'block' : 'none';\n",
       "    })();\n",
       "  </script>\n",
       "</div>\n",
       "    </div>\n",
       "  </div>\n"
      ],
      "text/plain": [
       "                           df      sum_sq    mean_sq         F    PR(>F)\n",
       "C(diet)                   2.0   71.093689  35.546845  6.399140  0.002822\n",
       "C(age_category)           2.0   17.498000   8.749000  1.574994  0.214359\n",
       "C(diet):C(age_category)   4.0   29.390330   7.347582  1.322711  0.270226\n",
       "Residual                 69.0  383.290930   5.554941       NaN       NaN"
      ]
     },
     "execution_count": 27,
     "metadata": {},
     "output_type": "execute_result"
    }
   ],
   "source": [
    "formula = 'weight_loss ~ C(diet) + C(age_category) + C(diet):C(age_category)'\n",
    "model = ols(formula, df).fit()\n",
    "aov_table = anova_lm(model)\n",
    "(aov_table)"
   ]
  },
  {
   "cell_type": "markdown",
   "metadata": {
    "id": "wzSblceLHJFj"
   },
   "source": [
    "#### **Step 6: Compare the p-value with $\\alpha$**"
   ]
  },
  {
   "cell_type": "code",
   "execution_count": null,
   "metadata": {
    "colab": {
     "base_uri": "https://localhost:8080/"
    },
    "id": "I9fsX508UKBC",
    "outputId": "d00856f6-4941-4ab9-84d7-a09637c496ea"
   },
   "outputs": [
    {
     "name": "stdout",
     "output_type": "stream",
     "text": [
      "As the p-value 0.2702264784075801 is greater than the level of significance, we fail to reject the null hypothesis.\n"
     ]
    }
   ],
   "source": [
    "row_name = 'C(diet):C(age_category)'\n",
    "p_value_interaction = aov_table.loc[row_name, 'PR(>F)']\n",
    "\n",
    "# print the conclusion based on p-value\n",
    "if p_value_interaction < 0.05:\n",
    "    print(f'As the p-value {p_value_interaction} is less than the level of significance, we reject the null hypothesis.')\n",
    "else:\n",
    "    print(f'As the p-value {p_value_interaction} is greater than the level of significance, we fail to reject the null hypothesis.')"
   ]
  },
  {
   "cell_type": "markdown",
   "metadata": {
    "id": "Pve6rvgsHJFj"
   },
   "source": [
    "#### **Step 7:  Draw inference**"
   ]
  },
  {
   "cell_type": "markdown",
   "metadata": {
    "id": "MeYmVEs5WU9R"
   },
   "source": [
    "As the p-value is greater than 0.05, we fail to reject the null hypothesis, Hence, The effect of `diet` on `weight_loss` does not depend on the effect of the `age_category` variable."
   ]
  },
  {
   "cell_type": "markdown",
   "metadata": {
    "id": "Z5Kk71mGnsRt"
   },
   "source": [
    "## **Conclusions**"
   ]
  },
  {
   "cell_type": "markdown",
   "metadata": {
    "id": "aJVlSGsKnydA"
   },
   "source": [
    "* From the sample data, it was observed that taking a diet has reduced the average weight\n",
    "\n",
    "\n",
    "* The variation in the weights is very similar before and after taking a diet\n",
    "\n",
    "\n",
    "* From the sample data, it was observed that the diet-plan C has resulted in higher weight loss as compared to the other two plans\n",
    "\n",
    "\n",
    "* There was enough statistical evidence to say that the effect on weight loss is different for at least one of the diet plans\n",
    "\n",
    "\n",
    "* Further statistical analysis can be done to determine if the impact of diet-plan C is significantly greater than the other two plans\n"
   ]
  },
  {
   "cell_type": "markdown",
   "metadata": {
    "id": "NxWyc0kq5i0K"
   },
   "source": [
    "---"
   ]
  }
 ],
 "metadata": {
  "colab": {
   "collapsed_sections": [
    "mD04kKWLsulE",
    "IvgViS0Y77T0",
    "6WGGQGqa78CB",
    "1CP5C0-Z8Ii6",
    "15c27a03",
    "74aae585",
    "zQxhWYkHp6PQ",
    "c25e66c1",
    "4f91affe",
    "9e803198",
    "1eee9694",
    "Z98I6Qc_0OH_",
    "r2oAHvFywcfF",
    "ueDvxAmArl97",
    "-AkWipJIQEP_",
    "p-63BK922TZR",
    "LP-q36P4-W2t",
    "8l6egG90rl98",
    "2ej13Tp8rl98",
    "yvuApOr1rl9-",
    "bb3tjjI9rl9-",
    "0j9FQc1Vrl9-",
    "v2BOfCZyrl9-",
    "-KvFxrA_rl9_",
    "QaoHZji5_yKa",
    "LuMEGc_g_yKb",
    "7ab2K1pF_yKb",
    "Fn7cQn7f_yKe",
    "QexUBKkr_yKe",
    "GzW6rUSH_yKe",
    "rt0Dnj5Z_yKf",
    "joLjGXQh3-Rt",
    "iuoX_z7RHJFY",
    "7HCqFiHNHJFi",
    "J5bEtC-eHJFi",
    "Nb4yxUgoHJFi",
    "Rb9wUlDzQZxp",
    "wzSblceLHJFj",
    "Pve6rvgsHJFj",
    "Z5Kk71mGnsRt"
   ],
   "provenance": []
  },
  "kernelspec": {
   "display_name": "Python 3 (ipykernel)",
   "language": "python",
   "name": "python3"
  },
  "language_info": {
   "codemirror_mode": {
    "name": "ipython",
    "version": 3
   },
   "file_extension": ".py",
   "mimetype": "text/x-python",
   "name": "python",
   "nbconvert_exporter": "python",
   "pygments_lexer": "ipython3",
   "version": "3.12.7"
  }
 },
 "nbformat": 4,
 "nbformat_minor": 4
}
